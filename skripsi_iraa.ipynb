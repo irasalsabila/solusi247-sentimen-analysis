{
  "cells": [
    {
      "cell_type": "markdown",
      "metadata": {
        "id": "lt1kavPmMwXo"
      },
      "source": [
        "#Libraries\n"
      ]
    },
    {
      "cell_type": "code",
      "execution_count": 4,
      "metadata": {
        "colab": {
          "base_uri": "https://localhost:8080/"
        },
        "id": "B2doOnPtuA6g",
        "outputId": "e5a99499-c6e8-4f89-9ffe-af618efeda13"
      },
      "outputs": [
        {
          "name": "stdout",
          "output_type": "stream",
          "text": [
            "/home/irasalsabila/.local/lib/python3.8/site-packages/pkg_resources/__init__.py:122: PkgResourcesDeprecationWarning: 2.0.0-ubuntu0.20.04.7-elementary7-ubuntu6.1.1 is an invalid version and will not be supported in a future release\n",
            "  warnings.warn(\n",
            "/home/irasalsabila/.local/lib/python3.8/site-packages/pkg_resources/__init__.py:122: PkgResourcesDeprecationWarning: 0.23ubuntu1 is an invalid version and will not be supported in a future release\n",
            "  warnings.warn(\n",
            "Requirement already satisfied: Sastrawi in /home/irasalsabila/.local/lib/python3.8/site-packages (1.0.1)\n",
            "/home/irasalsabila/.local/lib/python3.8/site-packages/pkg_resources/__init__.py:122: PkgResourcesDeprecationWarning: 2.0.0-ubuntu0.20.04.7-elementary7-ubuntu6.1.1 is an invalid version and will not be supported in a future release\n",
            "  warnings.warn(\n",
            "/home/irasalsabila/.local/lib/python3.8/site-packages/pkg_resources/__init__.py:122: PkgResourcesDeprecationWarning: 0.23ubuntu1 is an invalid version and will not be supported in a future release\n",
            "  warnings.warn(\n",
            "Requirement already satisfied: contractions in /home/irasalsabila/.local/lib/python3.8/site-packages (0.1.68)\n",
            "Requirement already satisfied: textsearch>=0.0.21 in /home/irasalsabila/.local/lib/python3.8/site-packages (from contractions) (0.0.21)\n",
            "Requirement already satisfied: anyascii in /home/irasalsabila/.local/lib/python3.8/site-packages (from textsearch>=0.0.21->contractions) (0.3.1)\n",
            "Requirement already satisfied: pyahocorasick in /home/irasalsabila/.local/lib/python3.8/site-packages (from textsearch>=0.0.21->contractions) (1.4.4)\n",
            "/home/irasalsabila/.local/lib/python3.8/site-packages/pkg_resources/__init__.py:122: PkgResourcesDeprecationWarning: 2.0.0-ubuntu0.20.04.7-elementary7-ubuntu6.1.1 is an invalid version and will not be supported in a future release\n",
            "  warnings.warn(\n",
            "/home/irasalsabila/.local/lib/python3.8/site-packages/pkg_resources/__init__.py:122: PkgResourcesDeprecationWarning: 0.23ubuntu1 is an invalid version and will not be supported in a future release\n",
            "  warnings.warn(\n",
            "/home/irasalsabila/.local/lib/python3.8/site-packages/pkg_resources/__init__.py:122: PkgResourcesDeprecationWarning: 2.0.0-ubuntu0.20.04.7-elementary7-ubuntu6.1.1 is an invalid version and will not be supported in a future release\n",
            "  warnings.warn(\n",
            "/home/irasalsabila/.local/lib/python3.8/site-packages/pkg_resources/__init__.py:122: PkgResourcesDeprecationWarning: 0.23ubuntu1 is an invalid version and will not be supported in a future release\n",
            "  warnings.warn(\n",
            "Collecting inflect\n",
            "  Downloading inflect-5.5.2-py3-none-any.whl (33 kB)\n",
            "Installing collected packages: inflect\n",
            "Successfully installed inflect-5.5.2\n"
          ]
        }
      ],
      "source": [
        "!pip install Sastrawi\n",
        "!pip install contractions\n",
        "!pip install inflect\n"
      ]
    },
    {
      "cell_type": "code",
      "execution_count": 5,
      "metadata": {
        "colab": {
          "base_uri": "https://localhost:8080/"
        },
        "id": "y2ruJOXVw1rD",
        "outputId": "5380d0b0-d8cb-4e00-978f-80498a157a21"
      },
      "outputs": [
        {
          "name": "stderr",
          "output_type": "stream",
          "text": [
            "2022-04-12 11:59:18.797617: W tensorflow/stream_executor/platform/default/dso_loader.cc:60] Could not load dynamic library 'libcudart.so.11.0'; dlerror: libcudart.so.11.0: cannot open shared object file: No such file or directory\n",
            "2022-04-12 11:59:18.797697: I tensorflow/stream_executor/cuda/cudart_stub.cc:29] Ignore above cudart dlerror if you do not have a GPU set up on your machine.\n",
            "Using TensorFlow backend.\n"
          ]
        },
        {
          "ename": "AttributeError",
          "evalue": "module 'tensorflow.compat.v2.__internal__' has no attribute 'tf2'",
          "output_type": "error",
          "traceback": [
            "\u001b[0;31m---------------------------------------------------------------------------\u001b[0m",
            "\u001b[0;31mAttributeError\u001b[0m                            Traceback (most recent call last)",
            "\u001b[1;32m/home/irasalsabila/Downloads/skripsi-ira/skripsi_iraa.ipynb Cell 3'\u001b[0m in \u001b[0;36m<module>\u001b[0;34m\u001b[0m\n\u001b[1;32m     <a href='vscode-notebook-cell:/home/irasalsabila/Downloads/skripsi-ira/skripsi_iraa.ipynb#ch0000002?line=30'>31</a>\u001b[0m \u001b[39mfrom\u001b[39;00m \u001b[39mtensorflow\u001b[39;00m\u001b[39m.\u001b[39;00m\u001b[39mkeras\u001b[39;00m\u001b[39m.\u001b[39;00m\u001b[39mcallbacks\u001b[39;00m \u001b[39mimport\u001b[39;00m EarlyStopping, ModelCheckpoint\n\u001b[1;32m     <a href='vscode-notebook-cell:/home/irasalsabila/Downloads/skripsi-ira/skripsi_iraa.ipynb#ch0000002?line=32'>33</a>\u001b[0m \u001b[39mfrom\u001b[39;00m \u001b[39mdatetime\u001b[39;00m \u001b[39mimport\u001b[39;00m datetime\n\u001b[0;32m---> <a href='vscode-notebook-cell:/home/irasalsabila/Downloads/skripsi-ira/skripsi_iraa.ipynb#ch0000002?line=34'>35</a>\u001b[0m \u001b[39mfrom\u001b[39;00m \u001b[39mkeras\u001b[39;00m \u001b[39mimport\u001b[39;00m initializers\n\u001b[1;32m     <a href='vscode-notebook-cell:/home/irasalsabila/Downloads/skripsi-ira/skripsi_iraa.ipynb#ch0000002?line=35'>36</a>\u001b[0m \u001b[39mfrom\u001b[39;00m \u001b[39mkeras\u001b[39;00m\u001b[39m.\u001b[39;00m\u001b[39mpreprocessing\u001b[39;00m\u001b[39m.\u001b[39;00m\u001b[39mtext\u001b[39;00m \u001b[39mimport\u001b[39;00m Tokenizer\n\u001b[1;32m     <a href='vscode-notebook-cell:/home/irasalsabila/Downloads/skripsi-ira/skripsi_iraa.ipynb#ch0000002?line=36'>37</a>\u001b[0m \u001b[39mfrom\u001b[39;00m \u001b[39mkeras\u001b[39;00m\u001b[39m.\u001b[39;00m\u001b[39mpreprocessing\u001b[39;00m\u001b[39m.\u001b[39;00m\u001b[39msequence\u001b[39;00m \u001b[39mimport\u001b[39;00m pad_sequences\n",
            "File \u001b[0;32m~/.local/lib/python3.8/site-packages/keras/__init__.py:12\u001b[0m, in \u001b[0;36m<module>\u001b[0;34m\u001b[0m\n\u001b[1;32m     <a href='file:///home/irasalsabila/.local/lib/python3.8/site-packages/keras/__init__.py?line=9'>10</a>\u001b[0m \u001b[39mfrom\u001b[39;00m \u001b[39m.\u001b[39;00m \u001b[39mimport\u001b[39;00m callbacks\n\u001b[1;32m     <a href='file:///home/irasalsabila/.local/lib/python3.8/site-packages/keras/__init__.py?line=10'>11</a>\u001b[0m \u001b[39mfrom\u001b[39;00m \u001b[39m.\u001b[39;00m \u001b[39mimport\u001b[39;00m constraints\n\u001b[0;32m---> <a href='file:///home/irasalsabila/.local/lib/python3.8/site-packages/keras/__init__.py?line=11'>12</a>\u001b[0m \u001b[39mfrom\u001b[39;00m \u001b[39m.\u001b[39;00m \u001b[39mimport\u001b[39;00m initializers\n\u001b[1;32m     <a href='file:///home/irasalsabila/.local/lib/python3.8/site-packages/keras/__init__.py?line=12'>13</a>\u001b[0m \u001b[39mfrom\u001b[39;00m \u001b[39m.\u001b[39;00m \u001b[39mimport\u001b[39;00m metrics\n\u001b[1;32m     <a href='file:///home/irasalsabila/.local/lib/python3.8/site-packages/keras/__init__.py?line=13'>14</a>\u001b[0m \u001b[39mfrom\u001b[39;00m \u001b[39m.\u001b[39;00m \u001b[39mimport\u001b[39;00m models\n",
            "File \u001b[0;32m~/.local/lib/python3.8/site-packages/keras/initializers/__init__.py:124\u001b[0m, in \u001b[0;36m<module>\u001b[0;34m\u001b[0m\n\u001b[1;32m    <a href='file:///home/irasalsabila/.local/lib/python3.8/site-packages/keras/initializers/__init__.py?line=117'>118</a>\u001b[0m   LOCAL\u001b[39m.\u001b[39mALL_OBJECTS[\u001b[39m'\u001b[39m\u001b[39mzero\u001b[39m\u001b[39m'\u001b[39m] \u001b[39m=\u001b[39m LOCAL\u001b[39m.\u001b[39mALL_OBJECTS[\u001b[39m'\u001b[39m\u001b[39mzeros\u001b[39m\u001b[39m'\u001b[39m]\n\u001b[1;32m    <a href='file:///home/irasalsabila/.local/lib/python3.8/site-packages/keras/initializers/__init__.py?line=120'>121</a>\u001b[0m \u001b[39m# For backwards compatibility, we populate this file with the objects\u001b[39;00m\n\u001b[1;32m    <a href='file:///home/irasalsabila/.local/lib/python3.8/site-packages/keras/initializers/__init__.py?line=121'>122</a>\u001b[0m \u001b[39m# from ALL_OBJECTS. We make no guarantees as to whether these objects will\u001b[39;00m\n\u001b[1;32m    <a href='file:///home/irasalsabila/.local/lib/python3.8/site-packages/keras/initializers/__init__.py?line=122'>123</a>\u001b[0m \u001b[39m# using their correct version.\u001b[39;00m\n\u001b[0;32m--> <a href='file:///home/irasalsabila/.local/lib/python3.8/site-packages/keras/initializers/__init__.py?line=123'>124</a>\u001b[0m populate_deserializable_objects()\n\u001b[1;32m    <a href='file:///home/irasalsabila/.local/lib/python3.8/site-packages/keras/initializers/__init__.py?line=124'>125</a>\u001b[0m \u001b[39mglobals\u001b[39m()\u001b[39m.\u001b[39mupdate(LOCAL\u001b[39m.\u001b[39mALL_OBJECTS)\n\u001b[1;32m    <a href='file:///home/irasalsabila/.local/lib/python3.8/site-packages/keras/initializers/__init__.py?line=126'>127</a>\u001b[0m \u001b[39m# Utility functions\u001b[39;00m\n",
            "File \u001b[0;32m~/.local/lib/python3.8/site-packages/keras/initializers/__init__.py:49\u001b[0m, in \u001b[0;36mpopulate_deserializable_objects\u001b[0;34m()\u001b[0m\n\u001b[1;32m     <a href='file:///home/irasalsabila/.local/lib/python3.8/site-packages/keras/initializers/__init__.py?line=45'>46</a>\u001b[0m   \u001b[39mreturn\u001b[39;00m\n\u001b[1;32m     <a href='file:///home/irasalsabila/.local/lib/python3.8/site-packages/keras/initializers/__init__.py?line=47'>48</a>\u001b[0m LOCAL\u001b[39m.\u001b[39mALL_OBJECTS \u001b[39m=\u001b[39m {}\n\u001b[0;32m---> <a href='file:///home/irasalsabila/.local/lib/python3.8/site-packages/keras/initializers/__init__.py?line=48'>49</a>\u001b[0m LOCAL\u001b[39m.\u001b[39mGENERATED_WITH_V2 \u001b[39m=\u001b[39m tf\u001b[39m.\u001b[39;49m__internal__\u001b[39m.\u001b[39;49mtf2\u001b[39m.\u001b[39menabled()\n\u001b[1;32m     <a href='file:///home/irasalsabila/.local/lib/python3.8/site-packages/keras/initializers/__init__.py?line=50'>51</a>\u001b[0m \u001b[39m# Compatibility aliases (need to exist in both V1 and V2).\u001b[39;00m\n\u001b[1;32m     <a href='file:///home/irasalsabila/.local/lib/python3.8/site-packages/keras/initializers/__init__.py?line=51'>52</a>\u001b[0m LOCAL\u001b[39m.\u001b[39mALL_OBJECTS[\u001b[39m'\u001b[39m\u001b[39mConstantV2\u001b[39m\u001b[39m'\u001b[39m] \u001b[39m=\u001b[39m initializers_v2\u001b[39m.\u001b[39mConstant\n",
            "\u001b[0;31mAttributeError\u001b[0m: module 'tensorflow.compat.v2.__internal__' has no attribute 'tf2'"
          ]
        }
      ],
      "source": [
        "#import needed libraries\n",
        "import re\n",
        "import string\n",
        "import unicodedata\n",
        "import nltk\n",
        "import inflect\n",
        "import pickle\n",
        "import contractions\n",
        "\n",
        "import pandas as pd\n",
        "import numpy as np\n",
        "import matplotlib.pyplot as plt\n",
        "\n",
        "from datetime import datetime\n",
        "from bs4 import BeautifulSoup\n",
        "from nltk import word_tokenize, sent_tokenize\n",
        "from nltk.corpus import stopwords\n",
        "from nltk.tokenize import word_tokenize, sent_tokenize\n",
        "from nltk.probability import FreqDist\n",
        "from nltk.stem import PorterStemmer\n",
        "\n",
        "from Sastrawi.Stemmer.StemmerFactory import StemmerFactory\n",
        "from Sastrawi.StopWordRemover.StopWordRemoverFactory import StopWordRemoverFactory\n",
        "\n",
        "from tensorflow import keras \n",
        "from tensorflow.keras.preprocessing.text import Tokenizer\n",
        "from tensorflow.keras.preprocessing.sequence import pad_sequences\n",
        "from tensorflow.keras import layers, initializers\n",
        "from tensorflow.keras.models import Sequential, load_model, Model\n",
        "from tensorflow.keras.layers import Concatenate, Input, Embedding, LSTM, Attention, Dense, Dropout, Bidirectional, LSTM, Flatten, Conv1D, GlobalMaxPool1D, MaxPool1D, Reshape, GlobalAveragePooling1D, UpSampling1D, Layer\n",
        "from tensorflow.keras.callbacks import EarlyStopping, ModelCheckpoint\n",
        "\n",
        "from datetime import datetime\n",
        "\n",
        "from keras import initializers\n",
        "from keras.preprocessing.text import Tokenizer\n",
        "from keras.preprocessing.sequence import pad_sequences\n",
        "from keras.models import Sequential, save_model, load_model\n",
        "from keras.layers import Dense, Embedding, Dropout, LSTM, Bidirectional, GRU, GlobalMaxPool1D\n",
        "from keras.utils.np_utils import to_categorical\n",
        "from keras.backend import clear_session\n",
        "\n",
        "from sklearn.model_selection import train_test_split\n",
        "from sklearn.metrics import classification_report, confusion_matrix, accuracy_score, f1_score, precision_score, recall_score\n",
        "from sklearn.naive_bayes import MultinomialNB\n",
        "from sklearn.svm import LinearSVC\n",
        "from sklearn.feature_extraction.text import CountVectorizer\n",
        "from sklearn.feature_extraction.text import TfidfTransformer\n",
        "from sklearn.feature_extraction.text import TfidfVectorizer\n",
        "\n",
        "nltk.download('all')"
      ]
    },
    {
      "cell_type": "code",
      "execution_count": null,
      "metadata": {
        "colab": {
          "base_uri": "https://localhost:8080/"
        },
        "id": "hRF5cNIww5HC",
        "outputId": "5c3da0bb-372a-4a36-f2b7-4c0cc1921a66"
      },
      "outputs": [
        {
          "name": "stdout",
          "output_type": "stream",
          "text": [
            "2.8.0\n"
          ]
        }
      ],
      "source": [
        "import tensorflow\n",
        "print(tensorflow.__version__)"
      ]
    },
    {
      "cell_type": "markdown",
      "metadata": {
        "id": "9-1aNMO5My03"
      },
      "source": [
        "# Preprocessing"
      ]
    },
    {
      "cell_type": "code",
      "execution_count": null,
      "metadata": {
        "id": "nvwVxb-1GKVm"
      },
      "outputs": [],
      "source": [
        "#removes html\n",
        "def strip_html(text):\n",
        "  soup = BeautifulSoup(text, \"html.parser\")\n",
        "  return soup.get_text()\n",
        "  \n",
        "#remove between square brackets\n",
        "def remove_between_square_brackets(text):\n",
        "    return re.sub('\\[[^]]*\\]', '', text)\n",
        "\n",
        "#eliminates contractions\n",
        "def replace_contractions(text):\n",
        "  \"\"\"Replace contactions in string of text\"\"\"\n",
        "  return contractions.fix(text)\n",
        "\n",
        "#denoise text\n",
        "def denoise_text(text):\n",
        "  text = strip_html(text)\n",
        "  text = remove_between_square_brackets(text)\n",
        "  text = replace_contractions(text)\n",
        "  return text"
      ]
    },
    {
      "cell_type": "code",
      "execution_count": null,
      "metadata": {
        "id": "1t7wrtOnGNV5"
      },
      "outputs": [],
      "source": [
        "factoryStopword = StopWordRemoverFactory()\n",
        "stopword = factoryStopword.create_stop_word_remover()\n",
        "stop_factory = StopWordRemoverFactory().get_stop_words()\n",
        "\n",
        "def get_stopwords():\n",
        "  docs = pd.read_csv('/content/stopwords-id.txt', header = None, names= ['stopword'])\n",
        "  docs = docs['stopword'].tolist()\n",
        "  return docs\n",
        "\n",
        "stop_words = get_stopwords()\n",
        "\n",
        "# Merge stopword\n",
        "data = set(stop_factory + stop_words)\n",
        "\n",
        "#remove stopword\n",
        "def removeStopword(str):\n",
        "    word_tokens = word_tokenize(str)\n",
        "    filtered_sentence = [w for w in word_tokens if not w in data]\n",
        "    return ' '.join(filtered_sentence)"
      ]
    },
    {
      "cell_type": "code",
      "execution_count": null,
      "metadata": {
        "id": "wnFsn7hMGPyh"
      },
      "outputs": [],
      "source": [
        "#cleaning dataset\n",
        "def cleaning(str):\n",
        "    #remove non-ascii\n",
        "    str = unicodedata.normalize('NFKD', str).encode('ascii', 'ignore').decode('utf-8', 'ignore')\n",
        "    str = re.sub(\"b'|b\\\"\",'',str)\n",
        "    #remove username inside brackets\n",
        "    str = re.sub('SENSITIVE-NO',' ',str) \n",
        "    #Remove additional white spaces\n",
        "    str = re.sub('[\\s]+', ' ', str)\n",
        "    #remove URLs\n",
        "    str = re.sub(r'(?i)\\b((?:https?://|www\\d{0,3}[.]|[a-z0-9.\\-]+[.][a-z]{2,4}/)(?:[^\\s()<>]+|\\(([^\\s()<>]+|(\\([^\\s()<>]+\\)))*\\))+(?:\\(([^\\s()<>]+|(\\([^\\s()<>]+\\)))*\\)|[^\\s`!()\\[\\]{};:\\'\".,<>?«»“”‘’]))', '', str)\n",
        "    #remove punctuations\n",
        "    str = re.sub(r'[^\\w\\d#\\s]|_',' ',str)\n",
        "    #remove digit from string\n",
        "    str = re.sub(\"\\S*\\d\\S*\", \"\", str).strip()\n",
        "    #remove digit or numbers\n",
        "    str = re.sub(r\"\\b\\d+\\b\", \" \", str)\n",
        "    #to lowercase\n",
        "    str = str.lower()\n",
        "    return str"
      ]
    },
    {
      "cell_type": "code",
      "execution_count": null,
      "metadata": {
        "id": "vL_1hqxeMLTt"
      },
      "outputs": [],
      "source": [
        "#remove twitter symbols\n",
        "def remove_symbols(str):\n",
        "  #remove RT\n",
        "  str = re.sub ('RT', '', str)\n",
        "  #remove @username\n",
        "  str = re.sub('@[^\\s]+', '', str)\n",
        "  #remove hashtag\n",
        "  str = re.sub('#[^\\s]+', '', str)\n",
        "  return str"
      ]
    },
    {
      "cell_type": "code",
      "execution_count": null,
      "metadata": {
        "id": "EsUZsC3bGcYu"
      },
      "outputs": [],
      "source": [
        "#normalization of words\n",
        "normalisasi = pd.read_csv('kamus.csv', encoding = 'latin-1')\n",
        "normalisasi_map = dict(zip(normalisasi['original'], normalisasi['replacement']))\n",
        "def normalizing(text):\n",
        "  return ' '.join([normalisasi_map[word] if word in normalisasi_map else word for word in text.split(' ')])"
      ]
    },
    {
      "cell_type": "code",
      "execution_count": null,
      "metadata": {
        "id": "fhJ2RP4XIQLz"
      },
      "outputs": [],
      "source": [
        "factoryStemmer = StemmerFactory()\n",
        "stemmer = factoryStemmer.create_stemmer()\n",
        "\n",
        "def stemming(text):\n",
        "  return stemmer.stem(text)"
      ]
    },
    {
      "cell_type": "code",
      "execution_count": null,
      "metadata": {
        "id": "tUzaSvKTHCO_"
      },
      "outputs": [],
      "source": [
        "#preprocessing dataset function\n",
        "def preprocessing(str):\n",
        "  str = remove_symbols(str)\n",
        "  str = denoise_text(str)\n",
        "  #str = normalizing(str)\n",
        "  #str = removeStopword(str)\n",
        "  str = cleaning(str)\n",
        "  #str = stemming(str)\n",
        "  #str = normalizing(str)\n",
        "  return str"
      ]
    },
    {
      "cell_type": "code",
      "execution_count": null,
      "metadata": {
        "colab": {
          "base_uri": "https://localhost:8080/"
        },
        "id": "7Z9Q7fKR0zbw",
        "outputId": "a0951f8f-7cb7-4461-9ac2-985faa1680f3"
      },
      "outputs": [
        {
          "name": "stdout",
          "output_type": "stream",
          "text": [
            "gelatine sheet  bronze    gelatine lembaran halal  per  lembar\n",
            "polisi tembak mati kurir narkotika psikotropika dan obat larang temu kg sabu pil inex gudang narkotika sidoarjo tribunnews com\n",
            "dokter sebut penanganan rekonstruksi bayi dina oktavia akan dilakukan sampai usia  tahun   halaman\n",
            "misteri kematian hakim jamaluddin saat akan bercerai  istri sudah  kali diperiksa polisi\n",
            "uuuu neo coffee  nctzen neotizen comment beautiful grass   emng indihome punya pala\n",
            "gwen radit minta maaf ric flair sinister six venom army ucok doctor strange indonesia terkoneksi dakota kai indihome andrew harry potter densus  green goblin\n"
          ]
        }
      ],
      "source": [
        "print(preprocessing('Gelatine Sheet (Bronze) / Gelatine lembaran HALAL (PER 5 LEMBAR) <br><br> @sere_nity'))\n",
        "print(preprocessing('polisi tembak mati kurir narkotika psikotropika dan obat larang temu kg sabu pil inex gudang narkotika sidoarjo tribunnews.com'))\n",
        "print(preprocessing('Dokter Sebut Penanganan Rekonstruksi Bayi Dina Oktavia akan Dilakukan Sampai Usia 17 tahun - Halaman 4 - www.tribunnews.com'))\n",
        "print(preprocessing('Misteri Kematian Hakim Jamaluddin Saat Akan Bercerai, Istri Sudah 7 Kali Diperiksa Polisi - www.voaindonesia.com'))\n",
        "print(preprocessing('uuuu neo coffee (nctzen/neotizen comment beautiful grass 🤩) @feungkwan emng indihome punya pala? #indihomegakjelas'))\n",
        "print(preprocessing('Gwen #SpiderManNoWayHome Radit Minta Maaf Ric Flair Sinister Six Venom ARMY Ucok Doctor Strange Indonesia Terkoneksi Dakota Kai Indihome #TokopediaxBLACKPINK #chuckyseries #dukungMUI Andrew Harry Potter Densus 88 Green Goblin #WWENXT https://t.co/o88OJhHAPY'))"
      ]
    },
    {
      "cell_type": "code",
      "execution_count": null,
      "metadata": {
        "id": "YIWYTHA_M6mM"
      },
      "outputs": [],
      "source": []
    },
    {
      "cell_type": "markdown",
      "metadata": {
        "id": "lQTqlo95NA71"
      },
      "source": [
        "# Twitter Sentiment GRU BiLSTM"
      ]
    },
    {
      "cell_type": "code",
      "execution_count": null,
      "metadata": {
        "colab": {
          "base_uri": "https://localhost:8080/"
        },
        "id": "3woA_3RkYNwn",
        "outputId": "212ffe04-1cbe-4f52-8097-305a4c7f6721"
      },
      "outputs": [
        {
          "name": "stdout",
          "output_type": "stream",
          "text": [
            "2.8.0\n",
            "2.8.0\n"
          ]
        }
      ],
      "source": [
        "print(keras.__version__)\n",
        "print(tensorflow.__version__)"
      ]
    },
    {
      "cell_type": "code",
      "execution_count": null,
      "metadata": {
        "colab": {
          "base_uri": "https://localhost:8080/",
          "height": 424
        },
        "id": "QlxlNzZAYNwn",
        "outputId": "56f6b57c-b376-4a03-efd3-e5116bb8a5eb"
      },
      "outputs": [
        {
          "data": {
            "text/html": [
              "\n",
              "  <div id=\"df-7e7dbbc1-fc73-4989-a068-a464c326703f\">\n",
              "    <div class=\"colab-df-container\">\n",
              "      <div>\n",
              "<style scoped>\n",
              "    .dataframe tbody tr th:only-of-type {\n",
              "        vertical-align: middle;\n",
              "    }\n",
              "\n",
              "    .dataframe tbody tr th {\n",
              "        vertical-align: top;\n",
              "    }\n",
              "\n",
              "    .dataframe thead th {\n",
              "        text-align: right;\n",
              "    }\n",
              "</style>\n",
              "<table border=\"1\" class=\"dataframe\">\n",
              "  <thead>\n",
              "    <tr style=\"text-align: right;\">\n",
              "      <th></th>\n",
              "      <th>text</th>\n",
              "      <th>label</th>\n",
              "    </tr>\n",
              "  </thead>\n",
              "  <tbody>\n",
              "    <tr>\n",
              "      <th>0</th>\n",
              "      <td>setelah melihat kekacauan jnt aku jadi takut s...</td>\n",
              "      <td>neu</td>\n",
              "    </tr>\n",
              "    <tr>\n",
              "      <th>1</th>\n",
              "      <td>jnt lagi ada masalah apa sudah ini paket sudah...</td>\n",
              "      <td>neg</td>\n",
              "    </tr>\n",
              "    <tr>\n",
              "      <th>2</th>\n",
              "      <td>jnt tidak ada perubahan sama sekali jujur kese...</td>\n",
              "      <td>neg</td>\n",
              "    </tr>\n",
              "    <tr>\n",
              "      <th>3</th>\n",
              "      <td>aku chat wasap ke jnt kak</td>\n",
              "      <td>neu</td>\n",
              "    </tr>\n",
              "    <tr>\n",
              "      <th>4</th>\n",
              "      <td>benar benar sekarang bukan seram seller lagi t...</td>\n",
              "      <td>neg</td>\n",
              "    </tr>\n",
              "    <tr>\n",
              "      <th>...</th>\n",
              "      <td>...</td>\n",
              "      <td>...</td>\n",
              "    </tr>\n",
              "    <tr>\n",
              "      <th>8256</th>\n",
              "      <td>suka banget sama kurir nya anteraja ramah banget</td>\n",
              "      <td>pos</td>\n",
              "    </tr>\n",
              "    <tr>\n",
              "      <th>8257</th>\n",
              "      <td>jujur iya anteraja itu secepet itu</td>\n",
              "      <td>pos</td>\n",
              "    </tr>\n",
              "    <tr>\n",
              "      <th>8258</th>\n",
              "      <td>anteraja paling the best tidak pernah ngecewai...</td>\n",
              "      <td>pos</td>\n",
              "    </tr>\n",
              "    <tr>\n",
              "      <th>8259</th>\n",
              "      <td>asli sih pakai anteraja cepat banget sampai nya</td>\n",
              "      <td>pos</td>\n",
              "    </tr>\n",
              "    <tr>\n",
              "      <th>8260</th>\n",
              "      <td>dari kurir anteraja kita belajar kalau banyakn...</td>\n",
              "      <td>neu</td>\n",
              "    </tr>\n",
              "  </tbody>\n",
              "</table>\n",
              "<p>8261 rows × 2 columns</p>\n",
              "</div>\n",
              "      <button class=\"colab-df-convert\" onclick=\"convertToInteractive('df-7e7dbbc1-fc73-4989-a068-a464c326703f')\"\n",
              "              title=\"Convert this dataframe to an interactive table.\"\n",
              "              style=\"display:none;\">\n",
              "        \n",
              "  <svg xmlns=\"http://www.w3.org/2000/svg\" height=\"24px\"viewBox=\"0 0 24 24\"\n",
              "       width=\"24px\">\n",
              "    <path d=\"M0 0h24v24H0V0z\" fill=\"none\"/>\n",
              "    <path d=\"M18.56 5.44l.94 2.06.94-2.06 2.06-.94-2.06-.94-.94-2.06-.94 2.06-2.06.94zm-11 1L8.5 8.5l.94-2.06 2.06-.94-2.06-.94L8.5 2.5l-.94 2.06-2.06.94zm10 10l.94 2.06.94-2.06 2.06-.94-2.06-.94-.94-2.06-.94 2.06-2.06.94z\"/><path d=\"M17.41 7.96l-1.37-1.37c-.4-.4-.92-.59-1.43-.59-.52 0-1.04.2-1.43.59L10.3 9.45l-7.72 7.72c-.78.78-.78 2.05 0 2.83L4 21.41c.39.39.9.59 1.41.59.51 0 1.02-.2 1.41-.59l7.78-7.78 2.81-2.81c.8-.78.8-2.07 0-2.86zM5.41 20L4 18.59l7.72-7.72 1.47 1.35L5.41 20z\"/>\n",
              "  </svg>\n",
              "      </button>\n",
              "      \n",
              "  <style>\n",
              "    .colab-df-container {\n",
              "      display:flex;\n",
              "      flex-wrap:wrap;\n",
              "      gap: 12px;\n",
              "    }\n",
              "\n",
              "    .colab-df-convert {\n",
              "      background-color: #E8F0FE;\n",
              "      border: none;\n",
              "      border-radius: 50%;\n",
              "      cursor: pointer;\n",
              "      display: none;\n",
              "      fill: #1967D2;\n",
              "      height: 32px;\n",
              "      padding: 0 0 0 0;\n",
              "      width: 32px;\n",
              "    }\n",
              "\n",
              "    .colab-df-convert:hover {\n",
              "      background-color: #E2EBFA;\n",
              "      box-shadow: 0px 1px 2px rgba(60, 64, 67, 0.3), 0px 1px 3px 1px rgba(60, 64, 67, 0.15);\n",
              "      fill: #174EA6;\n",
              "    }\n",
              "\n",
              "    [theme=dark] .colab-df-convert {\n",
              "      background-color: #3B4455;\n",
              "      fill: #D2E3FC;\n",
              "    }\n",
              "\n",
              "    [theme=dark] .colab-df-convert:hover {\n",
              "      background-color: #434B5C;\n",
              "      box-shadow: 0px 1px 3px 1px rgba(0, 0, 0, 0.15);\n",
              "      filter: drop-shadow(0px 1px 2px rgba(0, 0, 0, 0.3));\n",
              "      fill: #FFFFFF;\n",
              "    }\n",
              "  </style>\n",
              "\n",
              "      <script>\n",
              "        const buttonEl =\n",
              "          document.querySelector('#df-7e7dbbc1-fc73-4989-a068-a464c326703f button.colab-df-convert');\n",
              "        buttonEl.style.display =\n",
              "          google.colab.kernel.accessAllowed ? 'block' : 'none';\n",
              "\n",
              "        async function convertToInteractive(key) {\n",
              "          const element = document.querySelector('#df-7e7dbbc1-fc73-4989-a068-a464c326703f');\n",
              "          const dataTable =\n",
              "            await google.colab.kernel.invokeFunction('convertToInteractive',\n",
              "                                                     [key], {});\n",
              "          if (!dataTable) return;\n",
              "\n",
              "          const docLinkHtml = 'Like what you see? Visit the ' +\n",
              "            '<a target=\"_blank\" href=https://colab.research.google.com/notebooks/data_table.ipynb>data table notebook</a>'\n",
              "            + ' to learn more about interactive tables.';\n",
              "          element.innerHTML = '';\n",
              "          dataTable['output_type'] = 'display_data';\n",
              "          await google.colab.output.renderOutput(dataTable, element);\n",
              "          const docLink = document.createElement('div');\n",
              "          docLink.innerHTML = docLinkHtml;\n",
              "          element.appendChild(docLink);\n",
              "        }\n",
              "      </script>\n",
              "    </div>\n",
              "  </div>\n",
              "  "
            ],
            "text/plain": [
              "                                                   text label\n",
              "0     setelah melihat kekacauan jnt aku jadi takut s...   neu\n",
              "1     jnt lagi ada masalah apa sudah ini paket sudah...   neg\n",
              "2     jnt tidak ada perubahan sama sekali jujur kese...   neg\n",
              "3                             aku chat wasap ke jnt kak   neu\n",
              "4     benar benar sekarang bukan seram seller lagi t...   neg\n",
              "...                                                 ...   ...\n",
              "8256   suka banget sama kurir nya anteraja ramah banget   pos\n",
              "8257                 jujur iya anteraja itu secepet itu   pos\n",
              "8258  anteraja paling the best tidak pernah ngecewai...   pos\n",
              "8259    asli sih pakai anteraja cepat banget sampai nya   pos\n",
              "8260  dari kurir anteraja kita belajar kalau banyakn...   neu\n",
              "\n",
              "[8261 rows x 2 columns]"
            ]
          },
          "execution_count": 13,
          "metadata": {},
          "output_type": "execute_result"
        }
      ],
      "source": [
        "#load data\n",
        "df = pd.read_csv('/content/drive/MyDrive/College/Skripsi Iraa/data/merged.csv') #file.csv\n",
        "df"
      ]
    },
    {
      "cell_type": "code",
      "execution_count": null,
      "metadata": {
        "colab": {
          "base_uri": "https://localhost:8080/"
        },
        "id": "BD73syE2POXA",
        "outputId": "0ca91e73-489d-41be-90ab-af87a507bfc6"
      },
      "outputs": [
        {
          "data": {
            "text/plain": [
              "False"
            ]
          },
          "execution_count": 14,
          "metadata": {},
          "output_type": "execute_result"
        }
      ],
      "source": [
        "# checking nan values\n",
        "df.isnull().values.any()\n",
        "\n",
        "# if there is nan\n",
        "# df = df.dropna()"
      ]
    },
    {
      "cell_type": "code",
      "execution_count": null,
      "metadata": {
        "colab": {
          "base_uri": "https://localhost:8080/"
        },
        "id": "eIMBZzAgYNwp",
        "outputId": "55aa3ed5-5cb6-4b3e-9426-e050ed6f4d81"
      },
      "outputs": [
        {
          "data": {
            "text/plain": [
              "8261"
            ]
          },
          "execution_count": 15,
          "metadata": {},
          "output_type": "execute_result"
        }
      ],
      "source": [
        "# length of data\n",
        "len(df)"
      ]
    },
    {
      "cell_type": "code",
      "execution_count": null,
      "metadata": {
        "id": "y0brSVsJL_CI"
      },
      "outputs": [],
      "source": [
        "# drop unused column\n",
        "df = df.drop(['Unnamed: 0', 'label_id'], axis = True)\n",
        "df.head()"
      ]
    },
    {
      "cell_type": "code",
      "execution_count": null,
      "metadata": {
        "colab": {
          "base_uri": "https://localhost:8080/"
        },
        "id": "yHHtoJgXYNwq",
        "outputId": "0874e690-5e5f-4c3d-92a4-1cf5e730c65c"
      },
      "outputs": [
        {
          "data": {
            "text/plain": [
              "154"
            ]
          },
          "execution_count": 14,
          "metadata": {},
          "output_type": "execute_result"
        }
      ],
      "source": [
        "# checking duplicated data\n",
        "df.duplicated().sum()"
      ]
    },
    {
      "cell_type": "code",
      "execution_count": null,
      "metadata": {
        "colab": {
          "base_uri": "https://localhost:8080/"
        },
        "id": "UbPLxnQQYNwq",
        "outputId": "2b9cc765-e9c2-460f-ddf4-2f5da3def5c0"
      },
      "outputs": [
        {
          "data": {
            "text/plain": [
              "0"
            ]
          },
          "execution_count": 15,
          "metadata": {},
          "output_type": "execute_result"
        }
      ],
      "source": [
        "# delete duplicated data\n",
        "df = df.drop_duplicates()\n",
        "df.duplicated().sum()"
      ]
    },
    {
      "cell_type": "code",
      "execution_count": null,
      "metadata": {
        "colab": {
          "base_uri": "https://localhost:8080/",
          "height": 424
        },
        "id": "EUg5zXROYNwq",
        "outputId": "a740d007-aa6e-4bf9-8b09-c89a858a25da"
      },
      "outputs": [
        {
          "data": {
            "text/html": [
              "\n",
              "  <div id=\"df-967957ad-cd9b-4ca4-a2bd-f4a78e790bef\">\n",
              "    <div class=\"colab-df-container\">\n",
              "      <div>\n",
              "<style scoped>\n",
              "    .dataframe tbody tr th:only-of-type {\n",
              "        vertical-align: middle;\n",
              "    }\n",
              "\n",
              "    .dataframe tbody tr th {\n",
              "        vertical-align: top;\n",
              "    }\n",
              "\n",
              "    .dataframe thead th {\n",
              "        text-align: right;\n",
              "    }\n",
              "</style>\n",
              "<table border=\"1\" class=\"dataframe\">\n",
              "  <thead>\n",
              "    <tr style=\"text-align: right;\">\n",
              "      <th></th>\n",
              "      <th>text</th>\n",
              "      <th>label</th>\n",
              "    </tr>\n",
              "  </thead>\n",
              "  <tbody>\n",
              "    <tr>\n",
              "      <th>0</th>\n",
              "      <td>setelah melihat kekacauan jnt aku jadi takut s...</td>\n",
              "      <td>neu</td>\n",
              "    </tr>\n",
              "    <tr>\n",
              "      <th>1</th>\n",
              "      <td>jnt lagi ada masalah apa sudah ini paket sudah...</td>\n",
              "      <td>neg</td>\n",
              "    </tr>\n",
              "    <tr>\n",
              "      <th>2</th>\n",
              "      <td>jnt tidak ada perubahan sama sekali jujur kese...</td>\n",
              "      <td>neg</td>\n",
              "    </tr>\n",
              "    <tr>\n",
              "      <th>3</th>\n",
              "      <td>aku chat wasap ke jnt kak</td>\n",
              "      <td>neu</td>\n",
              "    </tr>\n",
              "    <tr>\n",
              "      <th>4</th>\n",
              "      <td>benar benar sekarang bukan seram seller lagi t...</td>\n",
              "      <td>neg</td>\n",
              "    </tr>\n",
              "    <tr>\n",
              "      <th>...</th>\n",
              "      <td>...</td>\n",
              "      <td>...</td>\n",
              "    </tr>\n",
              "    <tr>\n",
              "      <th>8102</th>\n",
              "      <td>suka banget sama kurir nya anteraja ramah banget</td>\n",
              "      <td>pos</td>\n",
              "    </tr>\n",
              "    <tr>\n",
              "      <th>8103</th>\n",
              "      <td>jujur iya anteraja itu secepet itu</td>\n",
              "      <td>pos</td>\n",
              "    </tr>\n",
              "    <tr>\n",
              "      <th>8104</th>\n",
              "      <td>anteraja paling the best tidak pernah ngecewai...</td>\n",
              "      <td>pos</td>\n",
              "    </tr>\n",
              "    <tr>\n",
              "      <th>8105</th>\n",
              "      <td>asli sih pakai anteraja cepat banget sampai nya</td>\n",
              "      <td>pos</td>\n",
              "    </tr>\n",
              "    <tr>\n",
              "      <th>8106</th>\n",
              "      <td>dari kurir anteraja kita belajar kalau banyakn...</td>\n",
              "      <td>neu</td>\n",
              "    </tr>\n",
              "  </tbody>\n",
              "</table>\n",
              "<p>8107 rows × 2 columns</p>\n",
              "</div>\n",
              "      <button class=\"colab-df-convert\" onclick=\"convertToInteractive('df-967957ad-cd9b-4ca4-a2bd-f4a78e790bef')\"\n",
              "              title=\"Convert this dataframe to an interactive table.\"\n",
              "              style=\"display:none;\">\n",
              "        \n",
              "  <svg xmlns=\"http://www.w3.org/2000/svg\" height=\"24px\"viewBox=\"0 0 24 24\"\n",
              "       width=\"24px\">\n",
              "    <path d=\"M0 0h24v24H0V0z\" fill=\"none\"/>\n",
              "    <path d=\"M18.56 5.44l.94 2.06.94-2.06 2.06-.94-2.06-.94-.94-2.06-.94 2.06-2.06.94zm-11 1L8.5 8.5l.94-2.06 2.06-.94-2.06-.94L8.5 2.5l-.94 2.06-2.06.94zm10 10l.94 2.06.94-2.06 2.06-.94-2.06-.94-.94-2.06-.94 2.06-2.06.94z\"/><path d=\"M17.41 7.96l-1.37-1.37c-.4-.4-.92-.59-1.43-.59-.52 0-1.04.2-1.43.59L10.3 9.45l-7.72 7.72c-.78.78-.78 2.05 0 2.83L4 21.41c.39.39.9.59 1.41.59.51 0 1.02-.2 1.41-.59l7.78-7.78 2.81-2.81c.8-.78.8-2.07 0-2.86zM5.41 20L4 18.59l7.72-7.72 1.47 1.35L5.41 20z\"/>\n",
              "  </svg>\n",
              "      </button>\n",
              "      \n",
              "  <style>\n",
              "    .colab-df-container {\n",
              "      display:flex;\n",
              "      flex-wrap:wrap;\n",
              "      gap: 12px;\n",
              "    }\n",
              "\n",
              "    .colab-df-convert {\n",
              "      background-color: #E8F0FE;\n",
              "      border: none;\n",
              "      border-radius: 50%;\n",
              "      cursor: pointer;\n",
              "      display: none;\n",
              "      fill: #1967D2;\n",
              "      height: 32px;\n",
              "      padding: 0 0 0 0;\n",
              "      width: 32px;\n",
              "    }\n",
              "\n",
              "    .colab-df-convert:hover {\n",
              "      background-color: #E2EBFA;\n",
              "      box-shadow: 0px 1px 2px rgba(60, 64, 67, 0.3), 0px 1px 3px 1px rgba(60, 64, 67, 0.15);\n",
              "      fill: #174EA6;\n",
              "    }\n",
              "\n",
              "    [theme=dark] .colab-df-convert {\n",
              "      background-color: #3B4455;\n",
              "      fill: #D2E3FC;\n",
              "    }\n",
              "\n",
              "    [theme=dark] .colab-df-convert:hover {\n",
              "      background-color: #434B5C;\n",
              "      box-shadow: 0px 1px 3px 1px rgba(0, 0, 0, 0.15);\n",
              "      filter: drop-shadow(0px 1px 2px rgba(0, 0, 0, 0.3));\n",
              "      fill: #FFFFFF;\n",
              "    }\n",
              "  </style>\n",
              "\n",
              "      <script>\n",
              "        const buttonEl =\n",
              "          document.querySelector('#df-967957ad-cd9b-4ca4-a2bd-f4a78e790bef button.colab-df-convert');\n",
              "        buttonEl.style.display =\n",
              "          google.colab.kernel.accessAllowed ? 'block' : 'none';\n",
              "\n",
              "        async function convertToInteractive(key) {\n",
              "          const element = document.querySelector('#df-967957ad-cd9b-4ca4-a2bd-f4a78e790bef');\n",
              "          const dataTable =\n",
              "            await google.colab.kernel.invokeFunction('convertToInteractive',\n",
              "                                                     [key], {});\n",
              "          if (!dataTable) return;\n",
              "\n",
              "          const docLinkHtml = 'Like what you see? Visit the ' +\n",
              "            '<a target=\"_blank\" href=https://colab.research.google.com/notebooks/data_table.ipynb>data table notebook</a>'\n",
              "            + ' to learn more about interactive tables.';\n",
              "          element.innerHTML = '';\n",
              "          dataTable['output_type'] = 'display_data';\n",
              "          await google.colab.output.renderOutput(dataTable, element);\n",
              "          const docLink = document.createElement('div');\n",
              "          docLink.innerHTML = docLinkHtml;\n",
              "          element.appendChild(docLink);\n",
              "        }\n",
              "      </script>\n",
              "    </div>\n",
              "  </div>\n",
              "  "
            ],
            "text/plain": [
              "                                                   text label\n",
              "0     setelah melihat kekacauan jnt aku jadi takut s...   neu\n",
              "1     jnt lagi ada masalah apa sudah ini paket sudah...   neg\n",
              "2     jnt tidak ada perubahan sama sekali jujur kese...   neg\n",
              "3                             aku chat wasap ke jnt kak   neu\n",
              "4     benar benar sekarang bukan seram seller lagi t...   neg\n",
              "...                                                 ...   ...\n",
              "8102   suka banget sama kurir nya anteraja ramah banget   pos\n",
              "8103                 jujur iya anteraja itu secepet itu   pos\n",
              "8104  anteraja paling the best tidak pernah ngecewai...   pos\n",
              "8105    asli sih pakai anteraja cepat banget sampai nya   pos\n",
              "8106  dari kurir anteraja kita belajar kalau banyakn...   neu\n",
              "\n",
              "[8107 rows x 2 columns]"
            ]
          },
          "execution_count": 16,
          "metadata": {},
          "output_type": "execute_result"
        }
      ],
      "source": [
        "# reset index after delete duplicated\n",
        "df = df.reset_index(drop=True)\n",
        "df"
      ]
    },
    {
      "cell_type": "code",
      "execution_count": null,
      "metadata": {
        "colab": {
          "base_uri": "https://localhost:8080/"
        },
        "id": "OOhZgOykYNwr",
        "outputId": "cc1bc0ea-3626-48ea-c909-c677b1232f66"
      },
      "outputs": [
        {
          "data": {
            "text/plain": [
              "{0: 'neu', 1: 'neg', 2: 'pos'}"
            ]
          },
          "execution_count": 16,
          "metadata": {},
          "output_type": "execute_result"
        }
      ],
      "source": [
        "#convert label string to categorical\n",
        "df.dropna(inplace = True)\n",
        "df['label_id'] = df['label'].factorize()[0]\n",
        "kategori_id = df[['label', 'label_id']].drop_duplicates().sort_values('label_id')\n",
        "kategori_to_id = dict(kategori_id.values)\n",
        "id_to_kategori = dict(kategori_id[['label_id', 'label']].values)\n",
        "\n",
        "#show data id_to_kategori\n",
        "id_to_kategori"
      ]
    },
    {
      "cell_type": "code",
      "execution_count": null,
      "metadata": {
        "colab": {
          "base_uri": "https://localhost:8080/",
          "height": 365
        },
        "id": "CLfhYwPuYNwr",
        "outputId": "fc9867af-2074-4f5a-ae12-906d80f08522"
      },
      "outputs": [
        {
          "data": {
            "text/plain": [
              "neg    3875\n",
              "neu    2203\n",
              "pos    2183\n",
              "Name: label, dtype: int64"
            ]
          },
          "execution_count": 17,
          "metadata": {},
          "output_type": "execute_result"
        },
        {
          "data": {
            "image/png": "[encoded data removed]",
            "text/plain": [
              "<Figure size 432x288 with 1 Axes>"
            ]
          },
          "metadata": {
            "needs_background": "light"
          },
          "output_type": "display_data"
        }
      ],
      "source": [
        "#knowing dataset counts\n",
        "target = df['label'].value_counts()\n",
        "target.plot(kind='bar', title='Target Dataset')\n",
        "\n",
        "#show dataset\n",
        "target"
      ]
    },
    {
      "cell_type": "code",
      "execution_count": null,
      "metadata": {
        "colab": {
          "base_uri": "https://localhost:8080/"
        },
        "id": "hmP1nF5VYNwr",
        "outputId": "07a3a643-9261-4672-d2b2-e9daa5cccb72"
      },
      "outputs": [
        {
          "data": {
            "text/plain": [
              "(3826, 2145, 2136)"
            ]
          },
          "execution_count": 19,
          "metadata": {},
          "output_type": "execute_result"
        }
      ],
      "source": [
        "#balancing dataset\n",
        "class_0, class_1, class_2= df['label'].value_counts()\n",
        "\n",
        "class_0, class_1, class_2"
      ]
    },
    {
      "cell_type": "code",
      "execution_count": null,
      "metadata": {
        "colab": {
          "base_uri": "https://localhost:8080/",
          "height": 390
        },
        "id": "xnjyLMglYNws",
        "outputId": "f0b608e4-d34e-4817-df67-7b4749914e3b"
      },
      "outputs": [
        {
          "name": "stdout",
          "output_type": "stream",
          "text": [
            "Random samping: \n",
            "neu    2136\n",
            "neg    2136\n",
            "pos    2136\n",
            "Name: label, dtype: int64\n",
            "Total sentences:  6408\n"
          ]
        },
        {
          "data": {
            "image/png": "[encoded data removed]",
            "text/plain": [
              "<Figure size 432x288 with 1 Axes>"
            ]
          },
          "metadata": {},
          "output_type": "display_data"
        }
      ],
      "source": [
        "dataset_class_0 = df[df['label_id'] == 0]\n",
        "dataset_class_1 = df[df['label_id'] == 1]\n",
        "dataset_class_2 = df[df['label_id'] == 2]\n",
        "\n",
        "#making dataset as much as label 2\n",
        "dataset_class_0 = dataset_class_0.sample(class_2)\n",
        "dataset_class_1 = dataset_class_1.sample(class_2)\n",
        "dataset_class_2 = dataset_class_2.sample(class_2)\n",
        "\n",
        "df = pd.concat([dataset_class_0, dataset_class_1, dataset_class_2], axis=0)\n",
        "\n",
        "print(\"Random samping: \")\n",
        "print(df.label.value_counts())\n",
        "\n",
        "df.label_id.value_counts().plot(kind='bar', title='New Target Dataset')\n",
        "print('Total sentences: ', len(df))"
      ]
    },
    {
      "cell_type": "code",
      "execution_count": null,
      "metadata": {
        "colab": {
          "base_uri": "https://localhost:8080/",
          "height": 424
        },
        "id": "U_mhaSx_YNws",
        "outputId": "738ce18a-9117-4c5f-f9eb-103c07bba8d6"
      },
      "outputs": [
        {
          "data": {
            "text/html": [
              "\n",
              "  <div id=\"df-66e610da-3e30-4f72-ac59-fbccfe1e3f55\">\n",
              "    <div class=\"colab-df-container\">\n",
              "      <div>\n",
              "<style scoped>\n",
              "    .dataframe tbody tr th:only-of-type {\n",
              "        vertical-align: middle;\n",
              "    }\n",
              "\n",
              "    .dataframe tbody tr th {\n",
              "        vertical-align: top;\n",
              "    }\n",
              "\n",
              "    .dataframe thead th {\n",
              "        text-align: right;\n",
              "    }\n",
              "</style>\n",
              "<table border=\"1\" class=\"dataframe\">\n",
              "  <thead>\n",
              "    <tr style=\"text-align: right;\">\n",
              "      <th></th>\n",
              "      <th>text</th>\n",
              "      <th>label</th>\n",
              "      <th>label_id</th>\n",
              "    </tr>\n",
              "  </thead>\n",
              "  <tbody>\n",
              "    <tr>\n",
              "      <th>0</th>\n",
              "      <td>setelah melihat kekacauan jnt aku jadi takut s...</td>\n",
              "      <td>neu</td>\n",
              "      <td>0</td>\n",
              "    </tr>\n",
              "    <tr>\n",
              "      <th>1</th>\n",
              "      <td>jnt lagi ada masalah apa sudah ini paket sudah...</td>\n",
              "      <td>neg</td>\n",
              "      <td>1</td>\n",
              "    </tr>\n",
              "    <tr>\n",
              "      <th>2</th>\n",
              "      <td>jnt tidak ada perubahan sama sekali jujur kese...</td>\n",
              "      <td>neg</td>\n",
              "      <td>1</td>\n",
              "    </tr>\n",
              "    <tr>\n",
              "      <th>3</th>\n",
              "      <td>aku chat wasap ke jnt kak</td>\n",
              "      <td>neu</td>\n",
              "      <td>0</td>\n",
              "    </tr>\n",
              "    <tr>\n",
              "      <th>4</th>\n",
              "      <td>benar benar sekarang bukan seram seller lagi t...</td>\n",
              "      <td>neg</td>\n",
              "      <td>1</td>\n",
              "    </tr>\n",
              "    <tr>\n",
              "      <th>...</th>\n",
              "      <td>...</td>\n",
              "      <td>...</td>\n",
              "      <td>...</td>\n",
              "    </tr>\n",
              "    <tr>\n",
              "      <th>8256</th>\n",
              "      <td>suka banget sama kurir nya anteraja ramah banget</td>\n",
              "      <td>pos</td>\n",
              "      <td>2</td>\n",
              "    </tr>\n",
              "    <tr>\n",
              "      <th>8257</th>\n",
              "      <td>jujur iya anteraja itu secepet itu</td>\n",
              "      <td>pos</td>\n",
              "      <td>2</td>\n",
              "    </tr>\n",
              "    <tr>\n",
              "      <th>8258</th>\n",
              "      <td>anteraja paling the best tidak pernah ngecewai...</td>\n",
              "      <td>pos</td>\n",
              "      <td>2</td>\n",
              "    </tr>\n",
              "    <tr>\n",
              "      <th>8259</th>\n",
              "      <td>asli sih pakai anteraja cepat banget sampai nya</td>\n",
              "      <td>pos</td>\n",
              "      <td>2</td>\n",
              "    </tr>\n",
              "    <tr>\n",
              "      <th>8260</th>\n",
              "      <td>dari kurir anteraja kita belajar kalau banyakn...</td>\n",
              "      <td>neu</td>\n",
              "      <td>0</td>\n",
              "    </tr>\n",
              "  </tbody>\n",
              "</table>\n",
              "<p>8261 rows × 3 columns</p>\n",
              "</div>\n",
              "      <button class=\"colab-df-convert\" onclick=\"convertToInteractive('df-66e610da-3e30-4f72-ac59-fbccfe1e3f55')\"\n",
              "              title=\"Convert this dataframe to an interactive table.\"\n",
              "              style=\"display:none;\">\n",
              "        \n",
              "  <svg xmlns=\"http://www.w3.org/2000/svg\" height=\"24px\"viewBox=\"0 0 24 24\"\n",
              "       width=\"24px\">\n",
              "    <path d=\"M0 0h24v24H0V0z\" fill=\"none\"/>\n",
              "    <path d=\"M18.56 5.44l.94 2.06.94-2.06 2.06-.94-2.06-.94-.94-2.06-.94 2.06-2.06.94zm-11 1L8.5 8.5l.94-2.06 2.06-.94-2.06-.94L8.5 2.5l-.94 2.06-2.06.94zm10 10l.94 2.06.94-2.06 2.06-.94-2.06-.94-.94-2.06-.94 2.06-2.06.94z\"/><path d=\"M17.41 7.96l-1.37-1.37c-.4-.4-.92-.59-1.43-.59-.52 0-1.04.2-1.43.59L10.3 9.45l-7.72 7.72c-.78.78-.78 2.05 0 2.83L4 21.41c.39.39.9.59 1.41.59.51 0 1.02-.2 1.41-.59l7.78-7.78 2.81-2.81c.8-.78.8-2.07 0-2.86zM5.41 20L4 18.59l7.72-7.72 1.47 1.35L5.41 20z\"/>\n",
              "  </svg>\n",
              "      </button>\n",
              "      \n",
              "  <style>\n",
              "    .colab-df-container {\n",
              "      display:flex;\n",
              "      flex-wrap:wrap;\n",
              "      gap: 12px;\n",
              "    }\n",
              "\n",
              "    .colab-df-convert {\n",
              "      background-color: #E8F0FE;\n",
              "      border: none;\n",
              "      border-radius: 50%;\n",
              "      cursor: pointer;\n",
              "      display: none;\n",
              "      fill: #1967D2;\n",
              "      height: 32px;\n",
              "      padding: 0 0 0 0;\n",
              "      width: 32px;\n",
              "    }\n",
              "\n",
              "    .colab-df-convert:hover {\n",
              "      background-color: #E2EBFA;\n",
              "      box-shadow: 0px 1px 2px rgba(60, 64, 67, 0.3), 0px 1px 3px 1px rgba(60, 64, 67, 0.15);\n",
              "      fill: #174EA6;\n",
              "    }\n",
              "\n",
              "    [theme=dark] .colab-df-convert {\n",
              "      background-color: #3B4455;\n",
              "      fill: #D2E3FC;\n",
              "    }\n",
              "\n",
              "    [theme=dark] .colab-df-convert:hover {\n",
              "      background-color: #434B5C;\n",
              "      box-shadow: 0px 1px 3px 1px rgba(0, 0, 0, 0.15);\n",
              "      filter: drop-shadow(0px 1px 2px rgba(0, 0, 0, 0.3));\n",
              "      fill: #FFFFFF;\n",
              "    }\n",
              "  </style>\n",
              "\n",
              "      <script>\n",
              "        const buttonEl =\n",
              "          document.querySelector('#df-66e610da-3e30-4f72-ac59-fbccfe1e3f55 button.colab-df-convert');\n",
              "        buttonEl.style.display =\n",
              "          google.colab.kernel.accessAllowed ? 'block' : 'none';\n",
              "\n",
              "        async function convertToInteractive(key) {\n",
              "          const element = document.querySelector('#df-66e610da-3e30-4f72-ac59-fbccfe1e3f55');\n",
              "          const dataTable =\n",
              "            await google.colab.kernel.invokeFunction('convertToInteractive',\n",
              "                                                     [key], {});\n",
              "          if (!dataTable) return;\n",
              "\n",
              "          const docLinkHtml = 'Like what you see? Visit the ' +\n",
              "            '<a target=\"_blank\" href=https://colab.research.google.com/notebooks/data_table.ipynb>data table notebook</a>'\n",
              "            + ' to learn more about interactive tables.';\n",
              "          element.innerHTML = '';\n",
              "          dataTable['output_type'] = 'display_data';\n",
              "          await google.colab.output.renderOutput(dataTable, element);\n",
              "          const docLink = document.createElement('div');\n",
              "          docLink.innerHTML = docLinkHtml;\n",
              "          element.appendChild(docLink);\n",
              "        }\n",
              "      </script>\n",
              "    </div>\n",
              "  </div>\n",
              "  "
            ],
            "text/plain": [
              "                                                   text label  label_id\n",
              "0     setelah melihat kekacauan jnt aku jadi takut s...   neu         0\n",
              "1     jnt lagi ada masalah apa sudah ini paket sudah...   neg         1\n",
              "2     jnt tidak ada perubahan sama sekali jujur kese...   neg         1\n",
              "3                             aku chat wasap ke jnt kak   neu         0\n",
              "4     benar benar sekarang bukan seram seller lagi t...   neg         1\n",
              "...                                                 ...   ...       ...\n",
              "8256   suka banget sama kurir nya anteraja ramah banget   pos         2\n",
              "8257                 jujur iya anteraja itu secepet itu   pos         2\n",
              "8258  anteraja paling the best tidak pernah ngecewai...   pos         2\n",
              "8259    asli sih pakai anteraja cepat banget sampai nya   pos         2\n",
              "8260  dari kurir anteraja kita belajar kalau banyakn...   neu         0\n",
              "\n",
              "[8261 rows x 3 columns]"
            ]
          },
          "execution_count": 19,
          "metadata": {},
          "output_type": "execute_result"
        }
      ],
      "source": [
        "df"
      ]
    },
    {
      "cell_type": "code",
      "execution_count": null,
      "metadata": {
        "colab": {
          "base_uri": "https://localhost:8080/"
        },
        "id": "ncySUkchYNwt",
        "outputId": "790abc7a-e172-425a-c8d1-b96895c970ad"
      },
      "outputs": [
        {
          "name": "stdout",
          "output_type": "stream",
          "text": [
            "Value of [label_id]: [0 1 1 ... 2 2 0] \n",
            "\n",
            "Value of [text]: ['setelah melihat kekacauan jnt aku jadi takut sama paketku yang on the way semoga dapat kurir mas mas biasanya t t'\n",
            " 'jnt lagi ada masalah apa sudah ini paket sudah hari saya tidak sampai sampeee biasanya sehari besoknya langsung sampai hhhhh'\n",
            " 'jnt tidak ada perubahan sama sekali jujur kesellll tapi alhamdulillah nya di dom ku tidak ada oknum yang kayak begitu sih kakak'\n",
            " ... 'anteraja paling the best tidak pernah ngecewain love love deh'\n",
            " 'asli sih pakai anteraja cepat banget sampai nya'\n",
            " 'dari kurir anteraja kita belajar kalau banyaknya kasus penipuan lowongan pekerjaan di tidak jelas itu ternyata ada backinganny']\n"
          ]
        }
      ],
      "source": [
        "#checking dataset value\n",
        "label = df['label_id'].values\n",
        "text = df['text'].values\n",
        "\n",
        "print('Value of [label_id]:', label, \"\\n\")\n",
        "print('Value of [text]:', text)"
      ]
    },
    {
      "cell_type": "code",
      "execution_count": null,
      "metadata": {
        "id": "W0DEooJiYNwt"
      },
      "outputs": [],
      "source": [
        "#max features\n",
        "maxfeatures = 10000\n",
        "\n",
        "#tokenization\n",
        "tokenizer = Tokenizer(num_words = maxfeatures)\n",
        "tokenizer.fit_on_texts(text)"
      ]
    },
    {
      "cell_type": "code",
      "execution_count": null,
      "metadata": {
        "colab": {
          "base_uri": "https://localhost:8080/"
        },
        "id": "JxR-pzQlYNwt",
        "outputId": "9223136b-73db-4187-e44f-ad9e8babaef0"
      },
      "outputs": [
        {
          "name": "stdout",
          "output_type": "stream",
          "text": [
            "70\n"
          ]
        }
      ],
      "source": [
        "#max sequential per word in NN\n",
        "maxseqlen = max([len(i.split()) for i in text])\n",
        "print(maxseqlen)"
      ]
    },
    {
      "cell_type": "code",
      "execution_count": null,
      "metadata": {
        "colab": {
          "base_uri": "https://localhost:8080/"
        },
        "id": "h7Kh3i87YNwu",
        "outputId": "0d73d0e6-f70b-41dd-ad64-0c6929c60fcf"
      },
      "outputs": [
        {
          "name": "stdout",
          "output_type": "stream",
          "text": [
            "Shape of data tensor ['text']: (8261, 70)\n",
            "Shape of data tensor ['label']: (8261, 3)\n"
          ]
        }
      ],
      "source": [
        "X = tokenizer.texts_to_sequences(text)\n",
        "X = pad_sequences(X, maxlen = maxseqlen)\n",
        "y = to_categorical(label, num_classes = 3)\n",
        "\n",
        "print(\"Shape of data tensor ['text']:\", X.shape)\n",
        "print(\"Shape of data tensor ['label']:\", y.shape)"
      ]
    },
    {
      "cell_type": "code",
      "execution_count": null,
      "metadata": {
        "id": "jZUw-za-YNwu"
      },
      "outputs": [],
      "source": [
        "#tokening word index\n",
        "idx_token = tokenizer.word_index"
      ]
    },
    {
      "cell_type": "code",
      "execution_count": null,
      "metadata": {
        "colab": {
          "base_uri": "https://localhost:8080/"
        },
        "id": "TQZ2oPqFYNwu",
        "outputId": "9d294197-8ce7-40d4-923a-0a5ee1c7b3b8"
      },
      "outputs": [
        {
          "data": {
            "text/plain": [
              "10738"
            ]
          },
          "execution_count": 25,
          "metadata": {},
          "output_type": "execute_result"
        }
      ],
      "source": [
        "#determine vocab data used\n",
        "vocab = max([len(idx_token)]) + 1\n",
        "vocab"
      ]
    },
    {
      "cell_type": "code",
      "execution_count": null,
      "metadata": {
        "colab": {
          "base_uri": "https://localhost:8080/"
        },
        "id": "_ntLOCK_YNwu",
        "outputId": "7552a767-09e1-45c3-d3c2-92a2d4dd86cd"
      },
      "outputs": [
        {
          "name": "stdout",
          "output_type": "stream",
          "text": [
            "(7021, 70) (7021, 3)\n",
            "(1240, 70) (1240, 3)\n"
          ]
        }
      ],
      "source": [
        "#initializer\n",
        "initializer = initializers.RandomUniform(minval = -0.05, maxval = 0.05, seed = 123)\n",
        "\n",
        "#split dataset\n",
        "Xtrain, Xtest, ytrain, ytest = train_test_split(X, y, test_size = 0.15, random_state = 128)\n",
        "\n",
        "print(Xtrain.shape, ytrain.shape)\n",
        "print(Xtest.shape, ytest.shape)"
      ]
    },
    {
      "cell_type": "code",
      "execution_count": null,
      "metadata": {
        "colab": {
          "base_uri": "https://localhost:8080/"
        },
        "id": "xDbcCSvdYNwv",
        "outputId": "671517c6-0cc9-420f-9559-a51e2e0ec686"
      },
      "outputs": [
        {
          "name": "stdout",
          "output_type": "stream",
          "text": [
            "Model: \"sequential\"\n",
            "_________________________________________________________________\n",
            " Layer (type)                Output Shape              Param #   \n",
            "=================================================================\n",
            " embedding (Embedding)       (None, 70, 128)           1280000   \n",
            "                                                                 \n",
            " bidirectional (Bidirectiona  (None, 70, 1024)         2625536   \n",
            " l)                                                              \n",
            "                                                                 \n",
            " global_max_pooling1d (Globa  (None, 1024)             0         \n",
            " lMaxPooling1D)                                                  \n",
            "                                                                 \n",
            " dense (Dense)               (None, 128)               131200    \n",
            "                                                                 \n",
            " dropout (Dropout)           (None, 128)               0         \n",
            "                                                                 \n",
            " dense_1 (Dense)             (None, 64)                8256      \n",
            "                                                                 \n",
            " dropout_1 (Dropout)         (None, 64)                0         \n",
            "                                                                 \n",
            " dense_2 (Dense)             (None, 8)                 520       \n",
            "                                                                 \n",
            " dropout_2 (Dropout)         (None, 8)                 0         \n",
            "                                                                 \n",
            " dense_3 (Dense)             (None, 3)                 27        \n",
            "                                                                 \n",
            "=================================================================\n",
            "Total params: 4,045,539\n",
            "Trainable params: 4,045,539\n",
            "Non-trainable params: 0\n",
            "_________________________________________________________________\n"
          ]
        }
      ],
      "source": [
        "#architecture model\n",
        "model = Sequential()\n",
        "model.add(Embedding(input_dim = maxfeatures, output_dim = 128, input_length = maxseqlen, embeddings_initializer = initializer))\n",
        "model.add(Bidirectional(LSTM(512, return_sequences = True, kernel_initializer = initializer)))\n",
        "model.add(GlobalMaxPool1D())\n",
        "model.add(Dense(128, activation='relu'))\n",
        "model.add(Dropout(0.1))\n",
        "model.add(Dense(64, activation='relu'))\n",
        "model.add(Dropout(0.1))\n",
        "model.add(Dense(8, activation='relu'))\n",
        "model.add(Dropout(0.5))\n",
        "model.add(Dense(3, activation='softmax'))\n",
        "\n",
        "\n",
        "opt = tensorflow.keras.optimizers.RMSprop(learning_rate=0.0012, rho=0.7, momentum=0.5)\n",
        "model.compile(optimizer=opt, loss='categorical_crossentropy', metrics=['accuracy'])\n",
        "model.summary()"
      ]
    },
    {
      "cell_type": "code",
      "execution_count": null,
      "metadata": {
        "id": "olyKH9bsYNwv"
      },
      "outputs": [],
      "source": [
        "#declare checkpoint variable and early stopping to get best model\n",
        "early_stop = EarlyStopping(monitor = 'val_accuracy', patience = 3)"
      ]
    },
    {
      "cell_type": "code",
      "execution_count": null,
      "metadata": {
        "colab": {
          "base_uri": "https://localhost:8080/"
        },
        "id": "MDO29X4IYNww",
        "outputId": "8ef9bd31-af62-4c1a-b3da-43447006371a"
      },
      "outputs": [
        {
          "name": "stdout",
          "output_type": "stream",
          "text": [
            "Epoch 1/12\n",
            "38/38 [==============================] - 185s 5s/step - loss: 1.0322 - accuracy: 0.4696 - val_loss: 1.0597 - val_accuracy: 0.4552\n",
            "Epoch 2/12\n",
            "38/38 [==============================] - 178s 5s/step - loss: 0.8858 - accuracy: 0.5470 - val_loss: 0.8101 - val_accuracy: 0.6230\n",
            "Epoch 3/12\n",
            "38/38 [==============================] - 179s 5s/step - loss: 0.8332 - accuracy: 0.5901 - val_loss: 0.8063 - val_accuracy: 0.6202\n",
            "Epoch 4/12\n",
            "38/38 [==============================] - 179s 5s/step - loss: 0.7741 - accuracy: 0.6186 - val_loss: 1.1589 - val_accuracy: 0.5917\n",
            "Epoch 5/12\n",
            "38/38 [==============================] - 179s 5s/step - loss: 0.7381 - accuracy: 0.6489 - val_loss: 1.0611 - val_accuracy: 0.6344\n",
            "Epoch 6/12\n",
            "38/38 [==============================] - 225s 6s/step - loss: 0.6908 - accuracy: 0.6857 - val_loss: 0.6764 - val_accuracy: 0.7198\n",
            "Epoch 7/12\n",
            "38/38 [==============================] - 224s 6s/step - loss: 0.6374 - accuracy: 0.7165 - val_loss: 0.7009 - val_accuracy: 0.7055\n",
            "Epoch 8/12\n",
            "38/38 [==============================] - 180s 5s/step - loss: 0.6063 - accuracy: 0.7398 - val_loss: 0.6457 - val_accuracy: 0.7326\n",
            "Epoch 9/12\n",
            "38/38 [==============================] - 178s 5s/step - loss: 0.5563 - accuracy: 0.7605 - val_loss: 0.9611 - val_accuracy: 0.7468\n",
            "Epoch 10/12\n",
            "38/38 [==============================] - 178s 5s/step - loss: 0.5524 - accuracy: 0.7642 - val_loss: 0.7918 - val_accuracy: 0.6927\n",
            "Epoch 11/12\n",
            "38/38 [==============================] - 179s 5s/step - loss: 0.5216 - accuracy: 0.7814 - val_loss: 0.7596 - val_accuracy: 0.7326\n",
            "Epoch 12/12\n",
            "38/38 [==============================] - 178s 5s/step - loss: 0.4774 - accuracy: 0.7963 - val_loss: 0.8608 - val_accuracy: 0.6273\n",
            "Time out: 0:37:22.060911\n"
          ]
        }
      ],
      "source": [
        "#training model\n",
        "start_time = datetime.now()\n",
        "history = model.fit(Xtrain, ytrain,\n",
        "                    batch_size = 170, epochs = 12, shuffle = True,\n",
        "                    validation_split = 0.1, verbose = 1,\n",
        "                    callbacks=early_stop)\n",
        "end_time = datetime.now()\n",
        "print(\"Time out: {}\".format(end_time - start_time))"
      ]
    },
    {
      "cell_type": "code",
      "execution_count": null,
      "metadata": {
        "colab": {
          "base_uri": "https://localhost:8080/"
        },
        "id": "IxkI-5z2EXij",
        "outputId": "0b287c57-88b3-4048-ab53-64ad578718c3"
      },
      "outputs": [
        {
          "data": {
            "text/plain": [
              "dict_keys(['loss', 'accuracy', 'val_loss', 'val_accuracy'])"
            ]
          },
          "execution_count": 30,
          "metadata": {},
          "output_type": "execute_result"
        }
      ],
      "source": [
        "history.history.keys()"
      ]
    },
    {
      "cell_type": "code",
      "execution_count": null,
      "metadata": {
        "colab": {
          "base_uri": "https://localhost:8080/",
          "height": 294
        },
        "id": "sQ49tEVXDspE",
        "outputId": "c69c7eb1-434b-4463-9975-014c2370bdaf"
      },
      "outputs": [
        {
          "data": {
            "image/png": "[encoded data removed]",
            "text/plain": [
              "<Figure size 432x288 with 1 Axes>"
            ]
          },
          "metadata": {
            "needs_background": "light"
          },
          "output_type": "display_data"
        }
      ],
      "source": [
        "import matplotlib.pyplot as plt\n",
        "\n",
        "plt.plot (history.history['accuracy'])\n",
        "plt.plot (history.history['val_accuracy'])\n",
        "\n",
        "plt.title('model accuracy')\n",
        "plt.ylabel('accuracy')\n",
        "plt.xlabel('epoch')\n",
        "\n",
        "plt.legend(['acc', 'val_acc'], loc='upper left')\n",
        "plt.show()"
      ]
    },
    {
      "cell_type": "code",
      "execution_count": null,
      "metadata": {
        "colab": {
          "base_uri": "https://localhost:8080/",
          "height": 294
        },
        "id": "A2mfCwWmFNvq",
        "outputId": "f22f5488-0c16-41f1-ed02-83d39a393e43"
      },
      "outputs": [
        {
          "data": {
            "image/png": "[encoded data removed]",
            "text/plain": [
              "<Figure size 432x288 with 1 Axes>"
            ]
          },
          "metadata": {
            "needs_background": "light"
          },
          "output_type": "display_data"
        }
      ],
      "source": [
        "import matplotlib.pyplot as plt\n",
        "\n",
        "plt.plot (history.history['loss'])\n",
        "plt.plot (history.history['val_loss'])\n",
        "\n",
        "plt.title('model loss')\n",
        "plt.ylabel('loss')\n",
        "plt.xlabel('epoch')\n",
        "\n",
        "plt.legend(['loss', 'val_loss'], loc='upper left')\n",
        "plt.show()"
      ]
    },
    {
      "cell_type": "code",
      "execution_count": null,
      "metadata": {
        "id": "YnHC6OR5YNww"
      },
      "outputs": [],
      "source": [
        "#build eveluation function\n",
        "def evaluation(model, X, Y):\n",
        "  global Y_pred, Y_act\n",
        "  Y_pred = model.predict(X)\n",
        "  Y_pred_class = np.argmax(Y_pred, axis=1)\n",
        "  rounded_labels=np.argmax(Y, axis=1)\n",
        "  Y_act = rounded_labels\n",
        "  \n",
        "  accuracy = accuracy_score(Y_act, Y_pred_class)\n",
        "  return accuracy"
      ]
    },
    {
      "cell_type": "code",
      "execution_count": null,
      "metadata": {
        "colab": {
          "base_uri": "https://localhost:8080/"
        },
        "id": "EtPD7cD6YNww",
        "outputId": "16496d71-f2ff-4c6e-b4b6-185cdff129b4"
      },
      "outputs": [
        {
          "name": "stdout",
          "output_type": "stream",
          "text": [
            "accuracy: 62.661 %\n"
          ]
        }
      ],
      "source": [
        "accuracy = evaluation(model, Xtest, ytest)\n",
        "print('accuracy: %.3f' % (accuracy * 100), '%')"
      ]
    },
    {
      "cell_type": "code",
      "execution_count": null,
      "metadata": {
        "colab": {
          "base_uri": "https://localhost:8080/"
        },
        "id": "OwebuEX9vCpE",
        "outputId": "e70ac4f3-c7c0-49c9-ae53-aaff35ad2209"
      },
      "outputs": [
        {
          "data": {
            "text/plain": [
              "{0: 'neu', 1: 'neg', 2: 'pos'}"
            ]
          },
          "execution_count": 41,
          "metadata": {},
          "output_type": "execute_result"
        }
      ],
      "source": [
        "id_to_kategori"
      ]
    },
    {
      "cell_type": "code",
      "execution_count": null,
      "metadata": {
        "colab": {
          "base_uri": "https://localhost:8080/"
        },
        "id": "RMbjFQ2zpOJG",
        "outputId": "439d6349-092d-43b2-ac15-9ebeb6cb3a04"
      },
      "outputs": [
        {
          "name": "stdout",
          "output_type": "stream",
          "text": [
            "[[113  21 204]\n",
            " [ 28 376 181]\n",
            " [ 18  11 288]]\n",
            "              precision    recall  f1-score   support\n",
            "\n",
            "         neu       0.71      0.33      0.45       338\n",
            "         neg       0.92      0.64      0.76       585\n",
            "         pos       0.43      0.91      0.58       317\n",
            "\n",
            "    accuracy                           0.63      1240\n",
            "   macro avg       0.69      0.63      0.60      1240\n",
            "weighted avg       0.74      0.63      0.63      1240\n",
            "\n"
          ]
        }
      ],
      "source": [
        "from sklearn.metrics import classification_report\n",
        "target = ['neu', 'neg', 'pos']\n",
        "print(confusion_matrix(Y_act, np.argmax(Y_pred, axis=1)))\n",
        "print(classification_report(Y_act, np.argmax(Y_pred, axis = 1), target_names = target))"
      ]
    },
    {
      "cell_type": "code",
      "execution_count": null,
      "metadata": {
        "colab": {
          "base_uri": "https://localhost:8080/"
        },
        "id": "uSS9-q0yYNww",
        "outputId": "8a364952-42e4-4eef-bc57-a90067781ca3"
      },
      "outputs": [
        {
          "name": "stdout",
          "output_type": "stream",
          "text": [
            "confusion matrix: \n",
            " [[113  21 204]\n",
            " [ 28 376 181]\n",
            " [ 18  11 288]]\n",
            "accuracy:  0.6266129032258064\n",
            "recall:  [0.33431953 0.64273504 0.90851735]\n",
            "precission:  [0.71069182 0.92156863 0.42793462]\n"
          ]
        }
      ],
      "source": [
        "# Confusion Matrix\n",
        "from sklearn.metrics import confusion_matrix, accuracy_score, classification_report\n",
        "print(\"confusion matrix: \\n\", confusion_matrix(Y_act, np.argmax(Y_pred, axis = 1)))\n",
        "\n",
        "# Accuracy\n",
        "print(\"accuracy: \", accuracy_score(Y_act, np.argmax(Y_pred, axis = 1)))\n",
        "\n",
        "# Recall\n",
        "from sklearn.metrics import recall_score\n",
        "print(\"recall: \", recall_score(Y_act, np.argmax(Y_pred, axis = 1), average=None))\n",
        "\n",
        "# Precision\n",
        "from sklearn.metrics import precision_score\n",
        "print(\"precission: \", precision_score(Y_act, np.argmax(Y_pred, axis = 1), average=None))"
      ]
    },
    {
      "cell_type": "code",
      "execution_count": null,
      "metadata": {
        "id": "CquyC8AqYNwx"
      },
      "outputs": [],
      "source": [
        "import pickle\n",
        "with open('/content/drive/MyDrive/College/Skripsi Iraa/pickle h5/bilstm-merged-26mar.pickle', 'wb') as handle:\n",
        "    pickle.dump(tokenizer, handle, protocol=pickle.HIGHEST_PROTOCOL)\n",
        "\n",
        "model.save('/content/drive/MyDrive/College/Skripsi Iraa/pickle h5/bilstm-merged-26mar.h5')"
      ]
    },
    {
      "cell_type": "code",
      "execution_count": null,
      "metadata": {
        "id": "I3hq6-GzYNwx"
      },
      "outputs": [],
      "source": [
        "model = load_model('/content/drive/MyDrive/College/Skripsi Iraa/pickle h5/bilstm-merged-26mar.h5')"
      ]
    },
    {
      "cell_type": "code",
      "execution_count": null,
      "metadata": {
        "colab": {
          "base_uri": "https://localhost:8080/"
        },
        "id": "wDM74MlKYNwx",
        "outputId": "35223f21-be1f-457a-a836-140b08b7c135"
      },
      "outputs": [
        {
          "name": "stdout",
          "output_type": "stream",
          "text": [
            "Model: \"sequential_6\"\n",
            "_________________________________________________________________\n",
            " Layer (type)                Output Shape              Param #   \n",
            "=================================================================\n",
            " embedding_6 (Embedding)     (None, 70, 128)           1280000   \n",
            "                                                                 \n",
            " bidirectional_5 (Bidirectio  (None, 70, 1024)         2625536   \n",
            " nal)                                                            \n",
            "                                                                 \n",
            " global_max_pooling1d_5 (Glo  (None, 1024)             0         \n",
            " balMaxPooling1D)                                                \n",
            "                                                                 \n",
            " dense_20 (Dense)            (None, 128)               131200    \n",
            "                                                                 \n",
            " dropout_15 (Dropout)        (None, 128)               0         \n",
            "                                                                 \n",
            " dense_21 (Dense)            (None, 64)                8256      \n",
            "                                                                 \n",
            " dropout_16 (Dropout)        (None, 64)                0         \n",
            "                                                                 \n",
            " dense_22 (Dense)            (None, 8)                 520       \n",
            "                                                                 \n",
            " dropout_17 (Dropout)        (None, 8)                 0         \n",
            "                                                                 \n",
            " dense_23 (Dense)            (None, 3)                 27        \n",
            "                                                                 \n",
            "=================================================================\n",
            "Total params: 4,045,539\n",
            "Trainable params: 4,045,539\n",
            "Non-trainable params: 0\n",
            "_________________________________________________________________\n"
          ]
        }
      ],
      "source": [
        "model.summary()"
      ]
    },
    {
      "cell_type": "code",
      "execution_count": null,
      "metadata": {
        "id": "YmP5cnlaYNwy"
      },
      "outputs": [],
      "source": [
        "#new data\n",
        "test = ['Gilakk tumben dah sampenya lama banget',\n",
        "        'Gilakkk tumben dah sampe',\n",
        "        'Ongkir Surabaya Jogja berapa min',\n",
        "        'Aduh ekspedisinya ruwet banget, gak sampe-sampe',\n",
        "        'Alhamdulillah kurir di tempatku Amanah sih',\n",
        "        'Halo minnn, tolong cek dm kuu'\n",
        "        ]\n",
        "\n",
        "#expected\n",
        "#neg, neg, pos, neu, neu, pos"
      ]
    },
    {
      "cell_type": "code",
      "execution_count": null,
      "metadata": {
        "id": "c6yhPl5BYNwy"
      },
      "outputs": [],
      "source": [
        "#tokenizing newdata\n",
        "newdata = tokenizer.texts_to_sequences(test)\n",
        "newdata = pad_sequences(newdata, maxlen = maxseqlen)"
      ]
    },
    {
      "cell_type": "code",
      "execution_count": null,
      "metadata": {
        "id": "2tyGXEKcYNwy"
      },
      "outputs": [],
      "source": [
        "model_predict = model.predict(newdata)\n",
        "model_label = np.argmax(model_predict, axis = 1)\n",
        "model_probability = model_predict.max(axis = 1)"
      ]
    },
    {
      "cell_type": "code",
      "execution_count": null,
      "metadata": {
        "colab": {
          "base_uri": "https://localhost:8080/"
        },
        "id": "c9GMcmQRYNwy",
        "outputId": "ba7010c1-86a6-4a79-d2cf-df96a1f067fe"
      },
      "outputs": [
        {
          "name": "stdout",
          "output_type": "stream",
          "text": [
            "\"Gilakk tumben dah sampenya lama banget\"\n",
            "  - Prediction: 'neg'\n",
            "  - Probability: '0.9850375056266785'\n",
            "\n",
            "\"Gilakkk tumben dah sampe\"\n",
            "  - Prediction: 'neg'\n",
            "  - Probability: '0.6625643372535706'\n",
            "\n",
            "\"Ongkir Surabaya Jogja berapa min\"\n",
            "  - Prediction: 'neu'\n",
            "  - Probability: '0.4499388635158539'\n",
            "\n",
            "\"Aduh ekspedisinya ruwet banget, gak sampe-sampe\"\n",
            "  - Prediction: 'neg'\n",
            "  - Probability: '0.6309604644775391'\n",
            "\n",
            "\"Alhamdulillah kurir di tempatku Amanah sih\"\n",
            "  - Prediction: 'pos'\n",
            "  - Probability: '0.6311646699905396'\n",
            "\n",
            "\"Halo minnn, tolong cek dm kuu\"\n",
            "  - Prediction: 'neu'\n",
            "  - Probability: '0.49786800146102905'\n",
            "\n"
          ]
        }
      ],
      "source": [
        "#proccess model into prediction and probability of newdata\n",
        "model_labeled = []\n",
        "model_sentence = []\n",
        "model_probabilities = []\n",
        "for model_unlabeled, model_label, model_probability in zip(test, model_label, model_probability):\n",
        "  print('\"{}\"'.format(model_unlabeled))\n",
        "  u = model_unlabeled\n",
        "  l = id_to_kategori[model_label]\n",
        "  model_labeled.append(l)\n",
        "  model_sentence.append(u)\n",
        "  model_probabilities.append(model_probability)\n",
        "\n",
        "  print(\"  - Prediction: '{}'\".format(id_to_kategori[model_label]))\n",
        "  print(\"  - Probability: '{}'\".format(model_probability))\n",
        "  print(\"\")"
      ]
    },
    {
      "cell_type": "code",
      "execution_count": null,
      "metadata": {
        "id": "75vr175Qt6QM"
      },
      "outputs": [],
      "source": []
    }
  ],
  "metadata": {
    "colab": {
      "collapsed_sections": [
        "lt1kavPmMwXo",
        "9-1aNMO5My03"
      ],
      "name": "skripsi-iraa.ipynb",
      "provenance": []
    },
    "interpreter": {
      "hash": "916dbcbb3f70747c44a77c7bcd40155683ae19c65e1c03b4aa3499c5328201f1"
    },
    "kernelspec": {
      "display_name": "Python 3.8.10 64-bit",
      "language": "python",
      "name": "python3"
    },
    "language_info": {
      "codemirror_mode": {
        "name": "ipython",
        "version": 3
      },
      "file_extension": ".py",
      "mimetype": "text/x-python",
      "name": "python",
      "nbconvert_exporter": "python",
      "pygments_lexer": "ipython3",
      "version": "3.8.10"
    }
  },
  "nbformat": 4,
  "nbformat_minor": 0
}
