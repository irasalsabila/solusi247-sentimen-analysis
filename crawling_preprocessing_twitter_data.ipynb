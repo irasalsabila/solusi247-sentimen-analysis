{
  "nbformat": 4,
  "nbformat_minor": 0,
  "metadata": {
    "colab": {
      "name": "crawling-preprocessing-twitter-data.ipynb",
      "provenance": []
    },
    "kernelspec": {
      "name": "python3",
      "display_name": "Python 3"
    },
    "language_info": {
      "name": "python"
    }
  },
  "cells": [
    {
      "cell_type": "markdown",
      "source": [
        "# Crawling"
      ],
      "metadata": {
        "id": "9d21sJK8bBCj"
      }
    },
    {
      "cell_type": "code",
      "execution_count": null,
      "metadata": {
        "colab": {
          "base_uri": "https://localhost:8080/"
        },
        "id": "RLz3ihbhTazc",
        "outputId": "3449798c-d236-4f59-8bd4-1d78705c9e44"
      },
      "outputs": [
        {
          "name": "stdout",
          "output_type": "stream",
          "text": [
            "Requirement already satisfied: unidecode in /usr/local/lib/python3.7/dist-packages (1.3.2)\n",
            "Requirement already satisfied: twython in /usr/local/lib/python3.7/dist-packages (3.9.1)\n",
            "Requirement already satisfied: tweepy in /usr/local/lib/python3.7/dist-packages (3.10.0)\n",
            "Requirement already satisfied: beautifulsoup4 in /usr/local/lib/python3.7/dist-packages (4.6.3)\n",
            "Requirement already satisfied: tika in /usr/local/lib/python3.7/dist-packages (1.24)\n",
            "Requirement already satisfied: requests-oauthlib>=0.4.0 in /usr/local/lib/python3.7/dist-packages (from twython) (1.3.0)\n",
            "Requirement already satisfied: requests>=2.1.0 in /usr/local/lib/python3.7/dist-packages (from twython) (2.23.0)\n",
            "Requirement already satisfied: chardet<4,>=3.0.2 in /usr/local/lib/python3.7/dist-packages (from requests>=2.1.0->twython) (3.0.4)\n",
            "Requirement already satisfied: certifi>=2017.4.17 in /usr/local/lib/python3.7/dist-packages (from requests>=2.1.0->twython) (2021.10.8)\n",
            "Requirement already satisfied: idna<3,>=2.5 in /usr/local/lib/python3.7/dist-packages (from requests>=2.1.0->twython) (2.10)\n",
            "Requirement already satisfied: urllib3!=1.25.0,!=1.25.1,<1.26,>=1.21.1 in /usr/local/lib/python3.7/dist-packages (from requests>=2.1.0->twython) (1.24.3)\n",
            "Requirement already satisfied: oauthlib>=3.0.0 in /usr/local/lib/python3.7/dist-packages (from requests-oauthlib>=0.4.0->twython) (3.1.1)\n",
            "Requirement already satisfied: six>=1.10.0 in /usr/local/lib/python3.7/dist-packages (from tweepy) (1.15.0)\n",
            "Requirement already satisfied: PySocks!=1.5.7,>=1.5.6 in /usr/local/lib/python3.7/dist-packages (from requests>=2.1.0->twython) (1.7.1)\n",
            "Requirement already satisfied: setuptools in /usr/local/lib/python3.7/dist-packages (from tika) (57.4.0)\n"
          ]
        }
      ],
      "source": [
        "!pip install unidecode twython tweepy beautifulsoup4 tika"
      ]
    },
    {
      "cell_type": "code",
      "execution_count": null,
      "metadata": {
        "id": "Djygd7lzTbYS"
      },
      "outputs": [],
      "source": [
        "import warnings; warnings.simplefilter('ignore')\n",
        "import tweepy, json, nltk, urllib.request, requests\n",
        "from urllib.request import Request, urlopen\n",
        "from twython import TwythonStreamer\n",
        "from bs4 import BeautifulSoup as bs"
      ]
    },
    {
      "cell_type": "code",
      "execution_count": null,
      "metadata": {
        "colab": {
          "base_uri": "https://localhost:8080/",
          "height": 36
        },
        "id": "W3GmcAjcTbWZ",
        "outputId": "fe8a23a3-4291-4f4e-8987-ce3ebb61f522"
      },
      "outputs": [
        {
          "data": {
            "application/vnd.google.colaboratory.intrinsic+json": {
              "type": "string"
            },
            "text/plain": [
              "'Done'"
            ]
          },
          "execution_count": 18,
          "metadata": {},
          "output_type": "execute_result"
        }
      ],
      "source": [
        "# API keys\n",
        "Ck = 'Uuam2tve0yLLqEe7xuH7TaFA1' # consumer_key\n",
        "Cs = 'x8Uojc74fQc3iPiNUjn8ZrQEEiwahr8lwG7TEC10RFsVZwQBoF' # consumer_secret\n",
        "At = '755696906597085184-1KDWqr9ynhUi3VCP6D1xSak7uI5bw78' # access_token\n",
        "As = 'cg14g3t6MlbgfZTX60cKQTPaHDwDLAhifDiSdTb495Iyv' # access_secret\n",
        "'Done'"
      ]
    },
    {
      "cell_type": "code",
      "execution_count": null,
      "metadata": {
        "id": "F5Xvl0O_TbUT"
      },
      "outputs": [],
      "source": [
        "def twitter_connect(Ck, Cs, At, As, verbose = 0):\n",
        "    try:\n",
        "        auth = tweepy.OAuthHandler(Ck, Cs)\n",
        "        auth.set_access_token(At, As)\n",
        "        twitter = tweepy.API(auth, timeout=120)\n",
        "        if verbose != 0:\n",
        "            user = twitter.verify_credentials()\n",
        "            print('Welcome \"%s\" you are now connected to twitter server' %user.name)\n",
        "        return twitter\n",
        "    except:\n",
        "        print(\"Connection failed, please check your API keys or connection\")\n",
        "        return None"
      ]
    },
    {
      "cell_type": "code",
      "execution_count": null,
      "metadata": {
        "colab": {
          "base_uri": "https://localhost:8080/"
        },
        "id": "muaqLbHKTbRa",
        "outputId": "974b6d3b-5cdb-46eb-b6d4-622f4eb6d74b"
      },
      "outputs": [
        {
          "name": "stdout",
          "output_type": "stream",
          "text": [
            "Welcome \"Jayalah Negriku\" you are now connected to twitter server\n"
          ]
        }
      ],
      "source": [
        "# Koneksi ke twitter\n",
        "twitter = twitter_connect(Ck, Cs, At, As, verbose = 1)"
      ]
    },
    {
      "cell_type": "code",
      "execution_count": null,
      "metadata": {
        "colab": {
          "base_uri": "https://localhost:8080/"
        },
        "id": "tqR_PqWiTbNl",
        "outputId": "6e66db87-9528-4ea9-bd48-fa24b3744c9a"
      },
      "outputs": [
        {
          "name": "stdout",
          "output_type": "stream",
          "text": [
            " Berhasil mendapatkan 100 tweets\n"
          ]
        }
      ],
      "source": [
        "# Max 100 tweet per \"API call\"\n",
        "topic = 'anteraja'\n",
        "N = 100 # jumlah tweet yang ingin diambil\n",
        "bahasa = 'id'\n",
        "T = twitter.search(q=topic, lang=bahasa, count=N, tweet_mode = 'extended')\n",
        "tweets = [t._json for t in T]\n",
        "print(' Berhasil mendapatkan {} tweets'.format(len(tweets)))"
      ]
    },
    {
      "cell_type": "code",
      "execution_count": null,
      "metadata": {
        "colab": {
          "base_uri": "https://localhost:8080/"
        },
        "id": "Ug5fPO6iTbLp",
        "outputId": "3e450d79-f68a-46d1-a718-d756b703074c"
      },
      "outputs": [
        {
          "data": {
            "text/plain": [
              "('Wed Dec 29 05:42:20 +0000 2021',\n",
              " 'HAHAHAHAHAH TERNYATA PAKETNYA RUSAK🤣 DAHLAH gausah pake anteraja wkwkwkwkwk ok? ok!! https://t.co/CCIPqh8e42')"
            ]
          },
          "execution_count": 93,
          "metadata": {},
          "output_type": "execute_result"
        }
      ],
      "source": [
        "# Datanya berbentuk JSON\n",
        "tweets[0]['created_at'], tweets[0]['full_text'], "
      ]
    },
    {
      "cell_type": "code",
      "execution_count": null,
      "metadata": {
        "colab": {
          "base_uri": "https://localhost:8080/"
        },
        "id": "eKn8mgHFTbJ4",
        "outputId": "4a9ded75-9405-45a5-b35b-29b191f777ed"
      },
      "outputs": [
        {
          "data": {
            "text/plain": [
              "{'contributors': None,\n",
              " 'coordinates': None,\n",
              " 'created_at': 'Wed Dec 29 05:42:20 +0000 2021',\n",
              " 'display_text_range': [0, 84],\n",
              " 'entities': {'hashtags': [],\n",
              "  'media': [{'display_url': 'pic.twitter.com/CCIPqh8e42',\n",
              "    'expanded_url': 'https://twitter.com/bittakuchi/status/1476066029293867008/photo/1',\n",
              "    'id': 1476066019932131328,\n",
              "    'id_str': '1476066019932131328',\n",
              "    'indices': [85, 108],\n",
              "    'media_url': 'http://pbs.twimg.com/media/FHwKOX8UUAAKs2W.jpg',\n",
              "    'media_url_https': 'https://pbs.twimg.com/media/FHwKOX8UUAAKs2W.jpg',\n",
              "    'sizes': {'large': {'h': 1334, 'resize': 'fit', 'w': 750},\n",
              "     'medium': {'h': 1200, 'resize': 'fit', 'w': 675},\n",
              "     'small': {'h': 680, 'resize': 'fit', 'w': 382},\n",
              "     'thumb': {'h': 150, 'resize': 'crop', 'w': 150}},\n",
              "    'type': 'photo',\n",
              "    'url': 'https://t.co/CCIPqh8e42'}],\n",
              "  'symbols': [],\n",
              "  'urls': [],\n",
              "  'user_mentions': []},\n",
              " 'extended_entities': {'media': [{'display_url': 'pic.twitter.com/CCIPqh8e42',\n",
              "    'expanded_url': 'https://twitter.com/bittakuchi/status/1476066029293867008/photo/1',\n",
              "    'id': 1476066019932131328,\n",
              "    'id_str': '1476066019932131328',\n",
              "    'indices': [85, 108],\n",
              "    'media_url': 'http://pbs.twimg.com/media/FHwKOX8UUAAKs2W.jpg',\n",
              "    'media_url_https': 'https://pbs.twimg.com/media/FHwKOX8UUAAKs2W.jpg',\n",
              "    'sizes': {'large': {'h': 1334, 'resize': 'fit', 'w': 750},\n",
              "     'medium': {'h': 1200, 'resize': 'fit', 'w': 675},\n",
              "     'small': {'h': 680, 'resize': 'fit', 'w': 382},\n",
              "     'thumb': {'h': 150, 'resize': 'crop', 'w': 150}},\n",
              "    'type': 'photo',\n",
              "    'url': 'https://t.co/CCIPqh8e42'}]},\n",
              " 'favorite_count': 1,\n",
              " 'favorited': False,\n",
              " 'full_text': 'HAHAHAHAHAH TERNYATA PAKETNYA RUSAK🤣 DAHLAH gausah pake anteraja wkwkwkwkwk ok? ok!! https://t.co/CCIPqh8e42',\n",
              " 'geo': None,\n",
              " 'id': 1476066029293867008,\n",
              " 'id_str': '1476066029293867008',\n",
              " 'in_reply_to_screen_name': 'bittakuchi',\n",
              " 'in_reply_to_status_id': 1476060880974475269,\n",
              " 'in_reply_to_status_id_str': '1476060880974475269',\n",
              " 'in_reply_to_user_id': 451341122,\n",
              " 'in_reply_to_user_id_str': '451341122',\n",
              " 'is_quote_status': False,\n",
              " 'lang': 'in',\n",
              " 'metadata': {'iso_language_code': 'in', 'result_type': 'recent'},\n",
              " 'place': None,\n",
              " 'possibly_sensitive': False,\n",
              " 'retweet_count': 0,\n",
              " 'retweeted': False,\n",
              " 'source': '<a href=\"http://twitter.com/download/iphone\" rel=\"nofollow\">Twitter for iPhone</a>',\n",
              " 'truncated': False,\n",
              " 'user': {'contributors_enabled': False,\n",
              "  'created_at': 'Sat Dec 31 09:46:48 +0000 2011',\n",
              "  'default_profile': False,\n",
              "  'default_profile_image': False,\n",
              "  'description': 'huft',\n",
              "  'entities': {'description': {'urls': []},\n",
              "   'url': {'urls': [{'display_url': 'open.spotify.com/track/0sQKNdpw…',\n",
              "      'expanded_url': 'https://open.spotify.com/track/0sQKNdpwbmQ4e6jVOhr19g?si=RiAWMfg1S9WiW29MAFn8Ag',\n",
              "      'indices': [0, 23],\n",
              "      'url': 'https://t.co/4svKTrTozU'}]}},\n",
              "  'favourites_count': 935,\n",
              "  'follow_request_sent': False,\n",
              "  'followers_count': 385,\n",
              "  'following': False,\n",
              "  'friends_count': 209,\n",
              "  'geo_enabled': False,\n",
              "  'has_extended_profile': True,\n",
              "  'id': 451341122,\n",
              "  'id_str': '451341122',\n",
              "  'is_translation_enabled': False,\n",
              "  'is_translator': False,\n",
              "  'lang': None,\n",
              "  'listed_count': 0,\n",
              "  'location': 'Yogyakarta, Indonesia',\n",
              "  'name': 'Salcabiya',\n",
              "  'notifications': False,\n",
              "  'profile_background_color': '642D8B',\n",
              "  'profile_background_image_url': 'http://abs.twimg.com/images/themes/theme10/bg.gif',\n",
              "  'profile_background_image_url_https': 'https://abs.twimg.com/images/themes/theme10/bg.gif',\n",
              "  'profile_background_tile': True,\n",
              "  'profile_banner_url': 'https://pbs.twimg.com/profile_banners/451341122/1577995256',\n",
              "  'profile_image_url': 'http://pbs.twimg.com/profile_images/1393628782972391424/SaOMsyPl_normal.jpg',\n",
              "  'profile_image_url_https': 'https://pbs.twimg.com/profile_images/1393628782972391424/SaOMsyPl_normal.jpg',\n",
              "  'profile_link_color': 'FF0000',\n",
              "  'profile_sidebar_border_color': '65B0DA',\n",
              "  'profile_sidebar_fill_color': '7AC3EE',\n",
              "  'profile_text_color': '3D1957',\n",
              "  'profile_use_background_image': True,\n",
              "  'protected': False,\n",
              "  'screen_name': 'bittakuchi',\n",
              "  'statuses_count': 1989,\n",
              "  'time_zone': None,\n",
              "  'translator_type': 'none',\n",
              "  'url': 'https://t.co/4svKTrTozU',\n",
              "  'utc_offset': None,\n",
              "  'verified': False,\n",
              "  'withheld_in_countries': []}}"
            ]
          },
          "execution_count": 94,
          "metadata": {},
          "output_type": "execute_result"
        }
      ],
      "source": [
        "tweets[0]"
      ]
    },
    {
      "cell_type": "code",
      "execution_count": null,
      "metadata": {
        "colab": {
          "base_uri": "https://localhost:8080/"
        },
        "id": "s8PLS-e_TbH5",
        "outputId": "34f33c0e-a623-4a37-9df2-169d92ab0f3b"
      },
      "outputs": [
        {
          "name": "stdout",
          "output_type": "stream",
          "text": [
            "tweet pertama oleh \"bittakuchi\" : \"HAHAHAHAHAH TERNYATA PAKETNYA RUSAK🤣 DAHLAH gausah pake anteraja wkwkwkwkwk ok? ok!! https://t.co/CCIPqh8e42\"\n"
          ]
        }
      ],
      "source": [
        "# Contoh mengakses data spesifik pada tweet yang pertama:\n",
        "print('tweet pertama oleh \"{}\" : \"{}\"'.format(tweets[0]['user']['screen_name'],tweets[0]['full_text']))"
      ]
    },
    {
      "cell_type": "code",
      "execution_count": null,
      "metadata": {
        "colab": {
          "base_uri": "https://localhost:8080/"
        },
        "id": "hZXn6-AJTbFg",
        "outputId": "b134a33e-7f5b-48cc-964b-570a624dceab"
      },
      "outputs": [
        {
          "name": "stdout",
          "output_type": "stream",
          "text": [
            "Jumlah data sekarang =  5100\n"
          ]
        }
      ],
      "source": [
        "# Next data\n",
        "last_id = T[-1]._json['id'] - 1\n",
        "last_id\n",
        "T = twitter.search(q=topic, lang=bahasa, count=N, tweet_mode = 'extended', max_id=last_id)\n",
        "tweets.extend([t._json for t in T])\n",
        "\n",
        "print('Jumlah data sekarang = ', len(tweets))"
      ]
    },
    {
      "cell_type": "code",
      "execution_count": null,
      "metadata": {
        "id": "z1oFkmpVTbDY"
      },
      "outputs": [],
      "source": [
        "def saveTweets(tweets, file='Tweets.json'): #in Json Format\n",
        "    with open(file, 'w') as f:\n",
        "        for t in tweets:\n",
        "            try:\n",
        "                f.write(json.dumps(t)+'\\n')\n",
        "            except:\n",
        "                pass"
      ]
    },
    {
      "cell_type": "code",
      "execution_count": null,
      "metadata": {
        "colab": {
          "base_uri": "https://localhost:8080/"
        },
        "id": "9QdFa0pYTbAZ",
        "outputId": "fae91466-e3b8-4d9d-bcac-4a8a6049e795"
      },
      "outputs": [
        {
          "name": "stdout",
          "output_type": "stream",
          "text": [
            "Saved to /content/tweets_anteraja.json\n"
          ]
        }
      ],
      "source": [
        "# Menyimpan hasil crawling twitter\n",
        "fileName = '/content/tweets_anteraja.json' # format tweets_[keywords].json\n",
        "saveTweets(tweets,file=fileName)\n",
        "print('Saved to '+fileName)"
      ]
    },
    {
      "cell_type": "code",
      "execution_count": null,
      "metadata": {
        "id": "YyEqbZP0Ta67"
      },
      "outputs": [],
      "source": [
        "import json\n",
        "def loadTweets(file='Tweets.json'):\n",
        "    f=open(file,encoding='utf-8', errors ='ignore', mode='r')\n",
        "    T=f.readlines();f.close()\n",
        "    for i,t in enumerate(T):\n",
        "        T[i] = json.loads(t.strip())\n",
        "    return T"
      ]
    },
    {
      "cell_type": "code",
      "execution_count": null,
      "metadata": {
        "colab": {
          "base_uri": "https://localhost:8080/"
        },
        "id": "Mk6HQLTSTa3-",
        "outputId": "b668d461-dc1d-4be5-daa0-edea67dd98fe"
      },
      "outputs": [
        {
          "name": "stdout",
          "output_type": "stream",
          "text": [
            "tweet pertama oleh \"bittakuchi\" : \"HAHAHAHAHAH TERNYATA PAKETNYA RUSAK🤣 DAHLAH gausah pake anteraja wkwkwkwkwk ok? ok!! https://t.co/CCIPqh8e42\"\n"
          ]
        }
      ],
      "source": [
        "# Me-load kembali jika (misal) analisa ingin dilakukan di lain waktu\n",
        "# Sengaja nama variabelnya saya bedakan (T2)\n",
        "T2 = loadTweets(file='/content/tweets_anteraja.json')\n",
        "print('tweet pertama oleh \"{}\" : \"{}\"'.format(T2[0]['user']['screen_name'],T2[0]['full_text']))"
      ]
    },
    {
      "cell_type": "code",
      "execution_count": null,
      "metadata": {
        "colab": {
          "base_uri": "https://localhost:8080/"
        },
        "id": "ld1NXhW0UbYt",
        "outputId": "483545fa-ddad-4a13-dc66-0526c52bc2f5"
      },
      "outputs": [
        {
          "data": {
            "text/plain": [
              "['HAHAHAHAHAH TERNYATA PAKETNYA RUSAK🤣 DAHLAH gausah pake anteraja wkwkwkwkwk ok? ok!! https://t.co/CCIPqh8e42',\n",
              " '@TokopediaCare min tolong cek DM dong, saya ada kendala, jadi penjual setuju utk return pembelian saya karna brg yg di kirim rusak utk gnti yg baru, saat saya retur pilih kurir anteraja, karna kurir tdk pickup paket akhirnya saya ke kurir sicepat taro paket dan mau gnti kurir min',\n",
              " '@anteraja_id Kemarin² aku pake anteraja huhu mantappp',\n",
              " '@miepajakenak @anteraja_id iyaaa padahal aku order di desember juga, kalo @sicepat_ekspres emang aku blm pernah ada kendala apa apa sih aman aja huft luckyyy youuu',\n",
              " '@miepajakenak Hai Kak, Ada yang bisa kami bantu Kak ? Terkait kendalanya yuk infoin nomor resinya melalui DM. Kami tunggu ya. Terima kasih ^YH',\n",
              " '@bittakuchi @anteraja_id tapi km pake tokped gratis ongkirnya masih anteraja ya? soalnya desember ini aku udah dapet sicepat terus sih',\n",
              " '@miepajakenak @anteraja_id ih kesel banget kalo misalnya dibedain kenapa ga ada warning dari awal ya kalo gratong tuh akan sampe lebih lama gt kek apa gmn, trus kalo gamau anter cepet gitu harusnya gausah lah ikutan promo gratong, HHHH marah😭',\n",
              " 'RT @indopremier: Terdeteksi kenaikan frekuensi dan value pada saham $ASSA.\\n\\nPada Q3 2021, segmen @anteraja_id milik ASSA berhasil mencatatk…',\n",
              " '@bittakuchi @anteraja_id pake gratis ongkir ya? soalnya pelayanan kalo bayar biasa sama dapet potongan ongkir beda sih, cuma gatau moga aja kasusnya cepet selese',\n",
              " '@anteraja_id Asli, pake anteraja pengiriman jadi cepat dan tepat. Jadi, gak perlu khawatir lagi deh kalo mau kirim\" barang ke luar kota',\n",
              " '@anteraja_id iya dibales dulu dm nya, org dm nya aja gadibales🤣',\n",
              " '@bittakuchi Selamat siang Kak Salcabiya, sebelumnya kami mohon maaf atas kendalanya ya Kak, agar kami dapat membantu Kakak, mohon lampirkan nomor resi paketnya via DM ya Kak agar kami dapat melakukan pengecekan lebih lanjut. Terima kasih Kak. ^FH',\n",
              " '@tokopedia @ShopeeID kalo masih kerjasama sama @anteraja_id dijamin nyesel, pelanggan paketnya dimacetin trossssss hahaha',\n",
              " '@bittakuchi Hai kak Salcabiya, apakah ada yang dapat kami bantu terkait pengirimannya? terkait kendalanya yuk infoin nomor resinya melalui DM. Kami tunggu ya. ^Ayu',\n",
              " '@sellkpopfess sicepat, anteraja langsung pickup tanpa nge wa kurir']"
            ]
          },
          "execution_count": 150,
          "metadata": {},
          "output_type": "execute_result"
        }
      ],
      "source": [
        "# Contoh mengambil hanya data tweet\n",
        "D = [t['full_text'] for t in T2]\n",
        "D[:15] # 5 tweet pertama"
      ]
    },
    {
      "cell_type": "code",
      "source": [
        ""
      ],
      "metadata": {
        "id": "NWQSsOX4bSj2"
      },
      "execution_count": null,
      "outputs": []
    },
    {
      "cell_type": "markdown",
      "source": [
        "# Preprocessing Func"
      ],
      "metadata": {
        "id": "_sXt6aaTbUQd"
      }
    },
    {
      "cell_type": "code",
      "execution_count": null,
      "metadata": {
        "id": "nvwVxb-1GKVm"
      },
      "outputs": [],
      "source": [
        "#removes html\n",
        "def strip_html(text):\n",
        "  soup = BeautifulSoup(text, \"html.parser\")\n",
        "  return soup.get_text()\n",
        "  \n",
        "#remove between square brackets\n",
        "def remove_between_square_brackets(text):\n",
        "    return re.sub('\\[[^]]*\\]', '', text)\n",
        "\n",
        "#eliminates contractions\n",
        "def replace_contractions(text):\n",
        "  \"\"\"Replace contactions in string of text\"\"\"\n",
        "  return contractions.fix(text)\n",
        "\n",
        "#denoise text\n",
        "def denoise_text(text):\n",
        "  text = strip_html(text)\n",
        "  text = remove_between_square_brackets(text)\n",
        "  text = replace_contractions(text)\n",
        "  return text"
      ]
    },
    {
      "cell_type": "code",
      "execution_count": null,
      "metadata": {
        "id": "1t7wrtOnGNV5"
      },
      "outputs": [],
      "source": [
        "factoryStopword = StopWordRemoverFactory()\n",
        "stopword = factoryStopword.create_stop_word_remover()\n",
        "stop_factory = StopWordRemoverFactory().get_stop_words()\n",
        "\n",
        "def get_stopwords():\n",
        "  docs = pd.read_csv('/content/stopwords-id.txt', header = None, names= ['stopword'])\n",
        "  docs = docs['stopword'].tolist()\n",
        "  return docs\n",
        "\n",
        "stop_words = get_stopwords()\n",
        "\n",
        "# Merge stopword\n",
        "data = set(stop_factory + stop_words)\n",
        "\n",
        "#remove stopword\n",
        "def removeStopword(str):\n",
        "    word_tokens = word_tokenize(str)\n",
        "    filtered_sentence = [w for w in word_tokens if not w in data]\n",
        "    return ' '.join(filtered_sentence)"
      ]
    },
    {
      "cell_type": "code",
      "execution_count": null,
      "metadata": {
        "id": "wnFsn7hMGPyh"
      },
      "outputs": [],
      "source": [
        "#cleaning dataset\n",
        "def cleaning(str):\n",
        "    #remove non-ascii\n",
        "    str = unicodedata.normalize('NFKD', str).encode('ascii', 'ignore').decode('utf-8', 'ignore')\n",
        "    str = re.sub(\"b'|b\\\"\",'',str)\n",
        "    #remove username inside brackets\n",
        "    str = re.sub('SENSITIVE-NO',' ',str) \n",
        "    #Remove additional white spaces\n",
        "    str = re.sub('[\\s]+', ' ', str)\n",
        "    #remove URLs\n",
        "    str = re.sub(r'(?i)\\b((?:https?://|www\\d{0,3}[.]|[a-z0-9.\\-]+[.][a-z]{2,4}/)(?:[^\\s()<>]+|\\(([^\\s()<>]+|(\\([^\\s()<>]+\\)))*\\))+(?:\\(([^\\s()<>]+|(\\([^\\s()<>]+\\)))*\\)|[^\\s`!()\\[\\]{};:\\'\".,<>?«»“”‘’]))', '', str)\n",
        "    #remove punctuations\n",
        "    str = re.sub(r'[^\\w]|_',' ',str)\n",
        "    #remove digit from string\n",
        "    str = re.sub(\"\\S*\\d\\S*\", \"\", str).strip()\n",
        "    #remove digit or numbers\n",
        "    str = re.sub(r\"\\b\\d+\\b\", \" \", str)\n",
        "    #to lowercase\n",
        "    str = str.lower()\n",
        "    return str"
      ]
    },
    {
      "cell_type": "code",
      "execution_count": null,
      "metadata": {
        "id": "vL_1hqxeMLTt"
      },
      "outputs": [],
      "source": [
        "#remove twitter symbols\n",
        "def remove_symbols(str):\n",
        "  #remove RT\n",
        "  str = re.sub ('RT', '', str)\n",
        "  #remove @username\n",
        "  str = re.sub('@[^\\s]+', '', str)\n",
        "  return str"
      ]
    },
    {
      "cell_type": "code",
      "execution_count": null,
      "metadata": {
        "id": "EsUZsC3bGcYu"
      },
      "outputs": [],
      "source": [
        "#normalization of words\n",
        "normalisasi = pd.read_csv('kamus.csv', encoding = 'latin-1')\n",
        "normalisasi_map = dict(zip(normalisasi['original'], normalisasi['replacement']))\n",
        "def normalizing(text):\n",
        "  return ' '.join([normalisasi_map[word] if word in normalisasi_map else word for word in text.split(' ')])"
      ]
    },
    {
      "cell_type": "code",
      "execution_count": null,
      "metadata": {
        "id": "fhJ2RP4XIQLz"
      },
      "outputs": [],
      "source": [
        "factoryStemmer = StemmerFactory()\n",
        "stemmer = factoryStemmer.create_stemmer()\n",
        "\n",
        "def stemming(text):\n",
        "  return stemmer.stem(text)"
      ]
    },
    {
      "cell_type": "code",
      "execution_count": null,
      "metadata": {
        "id": "tUzaSvKTHCO_"
      },
      "outputs": [],
      "source": [
        "#preprocessing dataset function\n",
        "def preprocessing(str):\n",
        "  str = remove_symbols(str)\n",
        "  str = denoise_text(str)\n",
        "  str = normalizing(str)\n",
        "  str = cleaning(str)\n",
        "  #str = stemming(str)\n",
        "  str = normalizing(str)\n",
        "  str = cleaning(str)\n",
        "  return str"
      ]
    },
    {
      "cell_type": "code",
      "execution_count": null,
      "metadata": {
        "colab": {
          "base_uri": "https://localhost:8080/"
        },
        "id": "7Z9Q7fKR0zbw",
        "outputId": "3e6b58df-93d4-4489-dd34-2fa444ae2737"
      },
      "outputs": [
        {
          "output_type": "stream",
          "name": "stdout",
          "text": [
            "gelatine sheet bronze gelatine lembaran halal per lembar\n",
            "polisi tembak mati kurir narkotika psikotropika dan obat larang temu kg sabu pil inex gudang narkotika sidoarjo tribunnews com\n",
            "dokter sebut penanganan rekonstruksi bayi dina oktavia akan dilakukan sampai usia tahun halaman\n",
            "misteri kematian hakim jamaluddin saat akan bercerai istri sudah kali diperiksa polisi\n",
            "uuuu neo coffee nctzen neotizen komen cantik grass\n",
            "mengsedih\n"
          ]
        }
      ],
      "source": [
        "print(preprocessing('Gelatine Sheet (Bronze) / Gelatine lembaran HALAL (PER 5 LEMBAR) <br><br> @sere_nity'))\n",
        "print(preprocessing('polisi tembak mati kurir narkotika psikotropika dan obat larang temu kg sabu pil inex gudang narkotika sidoarjo tribunnews.com'))\n",
        "print(preprocessing('Dokter Sebut Penanganan Rekonstruksi Bayi Dina Oktavia akan Dilakukan Sampai Usia 17 tahun - Halaman 4 - www.tribunnews.com'))\n",
        "print(preprocessing('Misteri Kematian Hakim Jamaluddin Saat Akan Bercerai, Istri Sudah 7 Kali Diperiksa Polisi - www.voaindonesia.com'))\n",
        "print(preprocessing('uuuu neo coffee (nctzen/neotizen comment beautiful grass 🤩)'))\n",
        "print(preprocessing('mengsedih'))"
      ]
    },
    {
      "cell_type": "markdown",
      "source": [
        "# Preprocessing"
      ],
      "metadata": {
        "id": "N-z0DvFVagSc"
      }
    },
    {
      "cell_type": "code",
      "execution_count": null,
      "metadata": {
        "id": "AZoVCN6JUcae"
      },
      "outputs": [],
      "source": [
        "import csv\n",
        "\n",
        "header = ['text']\n",
        "with open('tweets_anteraja.csv', 'w') as f:\n",
        "  writers = csv.writer(f, lineterminator = '\\n')\n",
        "  writers.writerow(header)\n",
        "  for i in D:\n",
        "    writers.writerow([i])"
      ]
    },
    {
      "cell_type": "code",
      "execution_count": null,
      "metadata": {
        "colab": {
          "base_uri": "https://localhost:8080/",
          "height": 677
        },
        "id": "EXJHemzCahDj",
        "outputId": "eee7be2d-f2d3-46b6-8f0a-8b992e1f3af0"
      },
      "outputs": [
        {
          "data": {
            "text/html": [
              "\n",
              "  <div id=\"df-ee069cb9-b884-46d1-be17-2da8cb0cc6d4\">\n",
              "    <div class=\"colab-df-container\">\n",
              "      <div>\n",
              "<style scoped>\n",
              "    .dataframe tbody tr th:only-of-type {\n",
              "        vertical-align: middle;\n",
              "    }\n",
              "\n",
              "    .dataframe tbody tr th {\n",
              "        vertical-align: top;\n",
              "    }\n",
              "\n",
              "    .dataframe thead th {\n",
              "        text-align: right;\n",
              "    }\n",
              "</style>\n",
              "<table border=\"1\" class=\"dataframe\">\n",
              "  <thead>\n",
              "    <tr style=\"text-align: right;\">\n",
              "      <th></th>\n",
              "      <th>text</th>\n",
              "    </tr>\n",
              "  </thead>\n",
              "  <tbody>\n",
              "    <tr>\n",
              "      <th>0</th>\n",
              "      <td>HAHAHAHAHAH TERNYATA PAKETNYA RUSAK🤣 DAHLAH ga...</td>\n",
              "    </tr>\n",
              "    <tr>\n",
              "      <th>1</th>\n",
              "      <td>@TokopediaCare min tolong cek DM dong, saya ad...</td>\n",
              "    </tr>\n",
              "    <tr>\n",
              "      <th>2</th>\n",
              "      <td>@anteraja_id Kemarin² aku pake anteraja huhu m...</td>\n",
              "    </tr>\n",
              "    <tr>\n",
              "      <th>3</th>\n",
              "      <td>@miepajakenak @anteraja_id iyaaa padahal aku o...</td>\n",
              "    </tr>\n",
              "    <tr>\n",
              "      <th>4</th>\n",
              "      <td>@miepajakenak Hai Kak, Ada yang bisa kami bant...</td>\n",
              "    </tr>\n",
              "    <tr>\n",
              "      <th>5</th>\n",
              "      <td>@bittakuchi @anteraja_id tapi km pake tokped g...</td>\n",
              "    </tr>\n",
              "    <tr>\n",
              "      <th>6</th>\n",
              "      <td>@miepajakenak @anteraja_id ih kesel banget kal...</td>\n",
              "    </tr>\n",
              "    <tr>\n",
              "      <th>7</th>\n",
              "      <td>RT @indopremier: Terdeteksi kenaikan frekuensi...</td>\n",
              "    </tr>\n",
              "    <tr>\n",
              "      <th>8</th>\n",
              "      <td>@bittakuchi @anteraja_id pake gratis ongkir ya...</td>\n",
              "    </tr>\n",
              "    <tr>\n",
              "      <th>9</th>\n",
              "      <td>@anteraja_id Asli, pake anteraja pengiriman ja...</td>\n",
              "    </tr>\n",
              "    <tr>\n",
              "      <th>10</th>\n",
              "      <td>@anteraja_id iya dibales dulu dm nya, org dm n...</td>\n",
              "    </tr>\n",
              "    <tr>\n",
              "      <th>11</th>\n",
              "      <td>@bittakuchi Selamat siang Kak Salcabiya, sebel...</td>\n",
              "    </tr>\n",
              "    <tr>\n",
              "      <th>12</th>\n",
              "      <td>@tokopedia @ShopeeID kalo masih kerjasama sama...</td>\n",
              "    </tr>\n",
              "    <tr>\n",
              "      <th>13</th>\n",
              "      <td>@bittakuchi Hai kak Salcabiya, apakah ada yang...</td>\n",
              "    </tr>\n",
              "    <tr>\n",
              "      <th>14</th>\n",
              "      <td>@sellkpopfess sicepat, anteraja langsung picku...</td>\n",
              "    </tr>\n",
              "    <tr>\n",
              "      <th>15</th>\n",
              "      <td>GUYS ATI ATI JANGAN PAKE EKSPEDISI @anteraja_i...</td>\n",
              "    </tr>\n",
              "    <tr>\n",
              "      <th>16</th>\n",
              "      <td>@sellkpopfess kalo aku anteraja</td>\n",
              "    </tr>\n",
              "    <tr>\n",
              "      <th>17</th>\n",
              "      <td>@sellkpopfess aku pake anteraja hrus di wa sih...</td>\n",
              "    </tr>\n",
              "    <tr>\n",
              "      <th>18</th>\n",
              "      <td>@sellkpopfess anteraja omg debest walau kdg rese</td>\n",
              "    </tr>\n",
              "    <tr>\n",
              "      <th>19</th>\n",
              "      <td>@Agil77 Hai kak, mohon maaf atas kendalanya, u...</td>\n",
              "    </tr>\n",
              "  </tbody>\n",
              "</table>\n",
              "</div>\n",
              "      <button class=\"colab-df-convert\" onclick=\"convertToInteractive('df-ee069cb9-b884-46d1-be17-2da8cb0cc6d4')\"\n",
              "              title=\"Convert this dataframe to an interactive table.\"\n",
              "              style=\"display:none;\">\n",
              "        \n",
              "  <svg xmlns=\"http://www.w3.org/2000/svg\" height=\"24px\"viewBox=\"0 0 24 24\"\n",
              "       width=\"24px\">\n",
              "    <path d=\"M0 0h24v24H0V0z\" fill=\"none\"/>\n",
              "    <path d=\"M18.56 5.44l.94 2.06.94-2.06 2.06-.94-2.06-.94-.94-2.06-.94 2.06-2.06.94zm-11 1L8.5 8.5l.94-2.06 2.06-.94-2.06-.94L8.5 2.5l-.94 2.06-2.06.94zm10 10l.94 2.06.94-2.06 2.06-.94-2.06-.94-.94-2.06-.94 2.06-2.06.94z\"/><path d=\"M17.41 7.96l-1.37-1.37c-.4-.4-.92-.59-1.43-.59-.52 0-1.04.2-1.43.59L10.3 9.45l-7.72 7.72c-.78.78-.78 2.05 0 2.83L4 21.41c.39.39.9.59 1.41.59.51 0 1.02-.2 1.41-.59l7.78-7.78 2.81-2.81c.8-.78.8-2.07 0-2.86zM5.41 20L4 18.59l7.72-7.72 1.47 1.35L5.41 20z\"/>\n",
              "  </svg>\n",
              "      </button>\n",
              "      \n",
              "  <style>\n",
              "    .colab-df-container {\n",
              "      display:flex;\n",
              "      flex-wrap:wrap;\n",
              "      gap: 12px;\n",
              "    }\n",
              "\n",
              "    .colab-df-convert {\n",
              "      background-color: #E8F0FE;\n",
              "      border: none;\n",
              "      border-radius: 50%;\n",
              "      cursor: pointer;\n",
              "      display: none;\n",
              "      fill: #1967D2;\n",
              "      height: 32px;\n",
              "      padding: 0 0 0 0;\n",
              "      width: 32px;\n",
              "    }\n",
              "\n",
              "    .colab-df-convert:hover {\n",
              "      background-color: #E2EBFA;\n",
              "      box-shadow: 0px 1px 2px rgba(60, 64, 67, 0.3), 0px 1px 3px 1px rgba(60, 64, 67, 0.15);\n",
              "      fill: #174EA6;\n",
              "    }\n",
              "\n",
              "    [theme=dark] .colab-df-convert {\n",
              "      background-color: #3B4455;\n",
              "      fill: #D2E3FC;\n",
              "    }\n",
              "\n",
              "    [theme=dark] .colab-df-convert:hover {\n",
              "      background-color: #434B5C;\n",
              "      box-shadow: 0px 1px 3px 1px rgba(0, 0, 0, 0.15);\n",
              "      filter: drop-shadow(0px 1px 2px rgba(0, 0, 0, 0.3));\n",
              "      fill: #FFFFFF;\n",
              "    }\n",
              "  </style>\n",
              "\n",
              "      <script>\n",
              "        const buttonEl =\n",
              "          document.querySelector('#df-ee069cb9-b884-46d1-be17-2da8cb0cc6d4 button.colab-df-convert');\n",
              "        buttonEl.style.display =\n",
              "          google.colab.kernel.accessAllowed ? 'block' : 'none';\n",
              "\n",
              "        async function convertToInteractive(key) {\n",
              "          const element = document.querySelector('#df-ee069cb9-b884-46d1-be17-2da8cb0cc6d4');\n",
              "          const dataTable =\n",
              "            await google.colab.kernel.invokeFunction('convertToInteractive',\n",
              "                                                     [key], {});\n",
              "          if (!dataTable) return;\n",
              "\n",
              "          const docLinkHtml = 'Like what you see? Visit the ' +\n",
              "            '<a target=\"_blank\" href=https://colab.research.google.com/notebooks/data_table.ipynb>data table notebook</a>'\n",
              "            + ' to learn more about interactive tables.';\n",
              "          element.innerHTML = '';\n",
              "          dataTable['output_type'] = 'display_data';\n",
              "          await google.colab.output.renderOutput(dataTable, element);\n",
              "          const docLink = document.createElement('div');\n",
              "          docLink.innerHTML = docLinkHtml;\n",
              "          element.appendChild(docLink);\n",
              "        }\n",
              "      </script>\n",
              "    </div>\n",
              "  </div>\n",
              "  "
            ],
            "text/plain": [
              "                                                 text\n",
              "0   HAHAHAHAHAH TERNYATA PAKETNYA RUSAK🤣 DAHLAH ga...\n",
              "1   @TokopediaCare min tolong cek DM dong, saya ad...\n",
              "2   @anteraja_id Kemarin² aku pake anteraja huhu m...\n",
              "3   @miepajakenak @anteraja_id iyaaa padahal aku o...\n",
              "4   @miepajakenak Hai Kak, Ada yang bisa kami bant...\n",
              "5   @bittakuchi @anteraja_id tapi km pake tokped g...\n",
              "6   @miepajakenak @anteraja_id ih kesel banget kal...\n",
              "7   RT @indopremier: Terdeteksi kenaikan frekuensi...\n",
              "8   @bittakuchi @anteraja_id pake gratis ongkir ya...\n",
              "9   @anteraja_id Asli, pake anteraja pengiriman ja...\n",
              "10  @anteraja_id iya dibales dulu dm nya, org dm n...\n",
              "11  @bittakuchi Selamat siang Kak Salcabiya, sebel...\n",
              "12  @tokopedia @ShopeeID kalo masih kerjasama sama...\n",
              "13  @bittakuchi Hai kak Salcabiya, apakah ada yang...\n",
              "14  @sellkpopfess sicepat, anteraja langsung picku...\n",
              "15  GUYS ATI ATI JANGAN PAKE EKSPEDISI @anteraja_i...\n",
              "16                    @sellkpopfess kalo aku anteraja\n",
              "17  @sellkpopfess aku pake anteraja hrus di wa sih...\n",
              "18   @sellkpopfess anteraja omg debest walau kdg rese\n",
              "19  @Agil77 Hai kak, mohon maaf atas kendalanya, u..."
            ]
          },
          "execution_count": 152,
          "metadata": {},
          "output_type": "execute_result"
        }
      ],
      "source": [
        "import pandas as pd\n",
        "data = pd.read_csv('/content/tweets_anteraja.csv') # format tweets_[keyword].csv\n",
        "data.head(20)"
      ]
    },
    {
      "cell_type": "code",
      "execution_count": null,
      "metadata": {
        "colab": {
          "base_uri": "https://localhost:8080/"
        },
        "id": "NzMBW7tc7JjN",
        "outputId": "dda83f26-f31b-44af-d783-848960d062e6"
      },
      "outputs": [
        {
          "data": {
            "text/plain": [
              "5100"
            ]
          },
          "execution_count": 153,
          "metadata": {},
          "output_type": "execute_result"
        }
      ],
      "source": [
        "len(data)"
      ]
    },
    {
      "cell_type": "code",
      "execution_count": null,
      "metadata": {
        "id": "64aWSFvo7KpL"
      },
      "outputs": [],
      "source": [
        "#apply preprocessing\n",
        "data['clean_text'] = data['text'].apply(preprocessing)"
      ]
    },
    {
      "cell_type": "code",
      "execution_count": null,
      "metadata": {
        "colab": {
          "base_uri": "https://localhost:8080/",
          "height": 424
        },
        "id": "os70jbNsA_Uv",
        "outputId": "56ecdf20-6807-4d71-8639-edca898e128a"
      },
      "outputs": [
        {
          "data": {
            "text/html": [
              "\n",
              "  <div id=\"df-07fd5a61-0765-4080-a79d-0ea3ad5e7e93\">\n",
              "    <div class=\"colab-df-container\">\n",
              "      <div>\n",
              "<style scoped>\n",
              "    .dataframe tbody tr th:only-of-type {\n",
              "        vertical-align: middle;\n",
              "    }\n",
              "\n",
              "    .dataframe tbody tr th {\n",
              "        vertical-align: top;\n",
              "    }\n",
              "\n",
              "    .dataframe thead th {\n",
              "        text-align: right;\n",
              "    }\n",
              "</style>\n",
              "<table border=\"1\" class=\"dataframe\">\n",
              "  <thead>\n",
              "    <tr style=\"text-align: right;\">\n",
              "      <th></th>\n",
              "      <th>text</th>\n",
              "      <th>clean_text</th>\n",
              "    </tr>\n",
              "  </thead>\n",
              "  <tbody>\n",
              "    <tr>\n",
              "      <th>0</th>\n",
              "      <td>HAHAHAHAHAH TERNYATA PAKETNYA RUSAK🤣 DAHLAH ga...</td>\n",
              "      <td>haha ternyata paketnya rusak dahlah tidak perl...</td>\n",
              "    </tr>\n",
              "    <tr>\n",
              "      <th>1</th>\n",
              "      <td>@TokopediaCare min tolong cek DM dong, saya ad...</td>\n",
              "      <td>min tolong cek direct message dong saya ada ke...</td>\n",
              "    </tr>\n",
              "    <tr>\n",
              "      <th>2</th>\n",
              "      <td>@anteraja_id Kemarin² aku pake anteraja huhu m...</td>\n",
              "      <td>aku pakai anteraja huhu mantappp</td>\n",
              "    </tr>\n",
              "    <tr>\n",
              "      <th>3</th>\n",
              "      <td>@miepajakenak @anteraja_id iyaaa padahal aku o...</td>\n",
              "      <td>iya padahal aku order di desember juga kalau m...</td>\n",
              "    </tr>\n",
              "    <tr>\n",
              "      <th>4</th>\n",
              "      <td>@miepajakenak Hai Kak, Ada yang bisa kami bant...</td>\n",
              "      <td>hai kak ada yang bisa kami bantu kak terkait k...</td>\n",
              "    </tr>\n",
              "    <tr>\n",
              "      <th>...</th>\n",
              "      <td>...</td>\n",
              "      <td>...</td>\n",
              "    </tr>\n",
              "    <tr>\n",
              "      <th>5095</th>\n",
              "      <td>RT @txtdrikurir: Tolong bantu usut pak oknum t...</td>\n",
              "      <td>tolong bantu usut pak oknum tersebut rekan kit...</td>\n",
              "    </tr>\n",
              "    <tr>\n",
              "      <th>5096</th>\n",
              "      <td>RT @ezash: Dari kurir AnterAja kita belajar, k...</td>\n",
              "      <td>dari kurir anteraja kita belajar kalau banyakn...</td>\n",
              "    </tr>\n",
              "    <tr>\n",
              "      <th>5097</th>\n",
              "      <td>RT @txtdrikurir: Tolong bantu usut pak oknum t...</td>\n",
              "      <td>tolong bantu usut pak oknum tersebut rekan kit...</td>\n",
              "    </tr>\n",
              "    <tr>\n",
              "      <th>5098</th>\n",
              "      <td>RT @ezash: Dari kurir AnterAja kita belajar, k...</td>\n",
              "      <td>dari kurir anteraja kita belajar kalau banyakn...</td>\n",
              "    </tr>\n",
              "    <tr>\n",
              "      <th>5099</th>\n",
              "      <td>RT @ezash: Dari kurir AnterAja kita belajar, k...</td>\n",
              "      <td>dari kurir anteraja kita belajar kalau banyakn...</td>\n",
              "    </tr>\n",
              "  </tbody>\n",
              "</table>\n",
              "<p>5100 rows × 2 columns</p>\n",
              "</div>\n",
              "      <button class=\"colab-df-convert\" onclick=\"convertToInteractive('df-07fd5a61-0765-4080-a79d-0ea3ad5e7e93')\"\n",
              "              title=\"Convert this dataframe to an interactive table.\"\n",
              "              style=\"display:none;\">\n",
              "        \n",
              "  <svg xmlns=\"http://www.w3.org/2000/svg\" height=\"24px\"viewBox=\"0 0 24 24\"\n",
              "       width=\"24px\">\n",
              "    <path d=\"M0 0h24v24H0V0z\" fill=\"none\"/>\n",
              "    <path d=\"M18.56 5.44l.94 2.06.94-2.06 2.06-.94-2.06-.94-.94-2.06-.94 2.06-2.06.94zm-11 1L8.5 8.5l.94-2.06 2.06-.94-2.06-.94L8.5 2.5l-.94 2.06-2.06.94zm10 10l.94 2.06.94-2.06 2.06-.94-2.06-.94-.94-2.06-.94 2.06-2.06.94z\"/><path d=\"M17.41 7.96l-1.37-1.37c-.4-.4-.92-.59-1.43-.59-.52 0-1.04.2-1.43.59L10.3 9.45l-7.72 7.72c-.78.78-.78 2.05 0 2.83L4 21.41c.39.39.9.59 1.41.59.51 0 1.02-.2 1.41-.59l7.78-7.78 2.81-2.81c.8-.78.8-2.07 0-2.86zM5.41 20L4 18.59l7.72-7.72 1.47 1.35L5.41 20z\"/>\n",
              "  </svg>\n",
              "      </button>\n",
              "      \n",
              "  <style>\n",
              "    .colab-df-container {\n",
              "      display:flex;\n",
              "      flex-wrap:wrap;\n",
              "      gap: 12px;\n",
              "    }\n",
              "\n",
              "    .colab-df-convert {\n",
              "      background-color: #E8F0FE;\n",
              "      border: none;\n",
              "      border-radius: 50%;\n",
              "      cursor: pointer;\n",
              "      display: none;\n",
              "      fill: #1967D2;\n",
              "      height: 32px;\n",
              "      padding: 0 0 0 0;\n",
              "      width: 32px;\n",
              "    }\n",
              "\n",
              "    .colab-df-convert:hover {\n",
              "      background-color: #E2EBFA;\n",
              "      box-shadow: 0px 1px 2px rgba(60, 64, 67, 0.3), 0px 1px 3px 1px rgba(60, 64, 67, 0.15);\n",
              "      fill: #174EA6;\n",
              "    }\n",
              "\n",
              "    [theme=dark] .colab-df-convert {\n",
              "      background-color: #3B4455;\n",
              "      fill: #D2E3FC;\n",
              "    }\n",
              "\n",
              "    [theme=dark] .colab-df-convert:hover {\n",
              "      background-color: #434B5C;\n",
              "      box-shadow: 0px 1px 3px 1px rgba(0, 0, 0, 0.15);\n",
              "      filter: drop-shadow(0px 1px 2px rgba(0, 0, 0, 0.3));\n",
              "      fill: #FFFFFF;\n",
              "    }\n",
              "  </style>\n",
              "\n",
              "      <script>\n",
              "        const buttonEl =\n",
              "          document.querySelector('#df-07fd5a61-0765-4080-a79d-0ea3ad5e7e93 button.colab-df-convert');\n",
              "        buttonEl.style.display =\n",
              "          google.colab.kernel.accessAllowed ? 'block' : 'none';\n",
              "\n",
              "        async function convertToInteractive(key) {\n",
              "          const element = document.querySelector('#df-07fd5a61-0765-4080-a79d-0ea3ad5e7e93');\n",
              "          const dataTable =\n",
              "            await google.colab.kernel.invokeFunction('convertToInteractive',\n",
              "                                                     [key], {});\n",
              "          if (!dataTable) return;\n",
              "\n",
              "          const docLinkHtml = 'Like what you see? Visit the ' +\n",
              "            '<a target=\"_blank\" href=https://colab.research.google.com/notebooks/data_table.ipynb>data table notebook</a>'\n",
              "            + ' to learn more about interactive tables.';\n",
              "          element.innerHTML = '';\n",
              "          dataTable['output_type'] = 'display_data';\n",
              "          await google.colab.output.renderOutput(dataTable, element);\n",
              "          const docLink = document.createElement('div');\n",
              "          docLink.innerHTML = docLinkHtml;\n",
              "          element.appendChild(docLink);\n",
              "        }\n",
              "      </script>\n",
              "    </div>\n",
              "  </div>\n",
              "  "
            ],
            "text/plain": [
              "                                                   text                                         clean_text\n",
              "0     HAHAHAHAHAH TERNYATA PAKETNYA RUSAK🤣 DAHLAH ga...  haha ternyata paketnya rusak dahlah tidak perl...\n",
              "1     @TokopediaCare min tolong cek DM dong, saya ad...  min tolong cek direct message dong saya ada ke...\n",
              "2     @anteraja_id Kemarin² aku pake anteraja huhu m...                   aku pakai anteraja huhu mantappp\n",
              "3     @miepajakenak @anteraja_id iyaaa padahal aku o...  iya padahal aku order di desember juga kalau m...\n",
              "4     @miepajakenak Hai Kak, Ada yang bisa kami bant...  hai kak ada yang bisa kami bantu kak terkait k...\n",
              "...                                                 ...                                                ...\n",
              "5095  RT @txtdrikurir: Tolong bantu usut pak oknum t...  tolong bantu usut pak oknum tersebut rekan kit...\n",
              "5096  RT @ezash: Dari kurir AnterAja kita belajar, k...  dari kurir anteraja kita belajar kalau banyakn...\n",
              "5097  RT @txtdrikurir: Tolong bantu usut pak oknum t...  tolong bantu usut pak oknum tersebut rekan kit...\n",
              "5098  RT @ezash: Dari kurir AnterAja kita belajar, k...  dari kurir anteraja kita belajar kalau banyakn...\n",
              "5099  RT @ezash: Dari kurir AnterAja kita belajar, k...  dari kurir anteraja kita belajar kalau banyakn...\n",
              "\n",
              "[5100 rows x 2 columns]"
            ]
          },
          "execution_count": 155,
          "metadata": {},
          "output_type": "execute_result"
        }
      ],
      "source": [
        "data"
      ]
    },
    {
      "cell_type": "code",
      "execution_count": null,
      "metadata": {
        "id": "thPXTqbM0baG"
      },
      "outputs": [],
      "source": [
        "# only take clean data\n",
        "data = data['clean_text']"
      ]
    },
    {
      "cell_type": "code",
      "execution_count": null,
      "metadata": {
        "colab": {
          "base_uri": "https://localhost:8080/"
        },
        "id": "kQdxA5rV0BcR",
        "outputId": "c8bcfe66-cdee-42d0-b385-8b04ccfe22ec"
      },
      "outputs": [
        {
          "data": {
            "text/plain": [
              "2073"
            ]
          },
          "execution_count": 157,
          "metadata": {},
          "output_type": "execute_result"
        }
      ],
      "source": [
        "# checking duplicate\n",
        "data.duplicated().sum()"
      ]
    },
    {
      "cell_type": "code",
      "execution_count": null,
      "metadata": {
        "colab": {
          "base_uri": "https://localhost:8080/"
        },
        "id": "OfeXuElb0BcS",
        "outputId": "9f572116-edf7-416d-b39f-3bff0437b8dd"
      },
      "outputs": [
        {
          "data": {
            "text/plain": [
              "0"
            ]
          },
          "execution_count": 158,
          "metadata": {},
          "output_type": "execute_result"
        }
      ],
      "source": [
        "#delete duplicated data\n",
        "data = data.drop_duplicates(keep = 'last')\n",
        "data.duplicated().sum()"
      ]
    },
    {
      "cell_type": "code",
      "execution_count": null,
      "metadata": {
        "id": "pv7BU8cq0BcT"
      },
      "outputs": [],
      "source": [
        "# dropping nan\n",
        "data = data.dropna()"
      ]
    },
    {
      "cell_type": "code",
      "execution_count": null,
      "metadata": {
        "colab": {
          "base_uri": "https://localhost:8080/"
        },
        "id": "PhoIODKu0BcT",
        "outputId": "fd4d2bdc-000d-4423-f032-d5ad223a5867"
      },
      "outputs": [
        {
          "data": {
            "text/plain": [
              "0       haha ternyata paketnya rusak dahlah tidak perl...\n",
              "1       min tolong cek direct message dong saya ada ke...\n",
              "2                        aku pakai anteraja huhu mantappp\n",
              "3       iya padahal aku order di desember juga kalau m...\n",
              "4       tapi kamu pakai tokped gratis ongkirnya masih ...\n",
              "                              ...                        \n",
              "3022    mencari ceperan begitu amat iya katanya idaman...\n",
              "3023    pernah dengar kan digebuki polisi seasrama tap...\n",
              "3024    bagaimana paket saya masa statusnya sudah dite...\n",
              "3025    tolong bantu usut pak oknum tersebut rekan kit...\n",
              "3026    dari kurir anteraja kita belajar kalau banyakn...\n",
              "Name: clean_text, Length: 3027, dtype: object"
            ]
          },
          "execution_count": 160,
          "metadata": {},
          "output_type": "execute_result"
        }
      ],
      "source": [
        "# reset index after dropping nan and deleting duplicate\n",
        "data = data.reset_index(drop=True)\n",
        "data"
      ]
    },
    {
      "cell_type": "code",
      "execution_count": null,
      "metadata": {
        "colab": {
          "base_uri": "https://localhost:8080/"
        },
        "id": "6AvRcgZD0rG0",
        "outputId": "ed47daef-48ff-4e9b-ff62-82556ce88c42"
      },
      "outputs": [
        {
          "data": {
            "text/plain": [
              "3027"
            ]
          },
          "execution_count": 161,
          "metadata": {},
          "output_type": "execute_result"
        }
      ],
      "source": [
        "len(data)"
      ]
    },
    {
      "cell_type": "code",
      "execution_count": null,
      "metadata": {
        "id": "7itTkFKcBDBN"
      },
      "outputs": [],
      "source": [
        "# saving csv\n",
        "# format tweets_[keyword]_preprocessed.csv\n",
        "data.to_csv('tweets_anteraja_preprocessed.csv', sep = ',', encoding = 'utf-8', index = False) "
      ]
    }
  ]
}